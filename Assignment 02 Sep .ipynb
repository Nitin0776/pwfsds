{
 "cells": [
  {
   "cell_type": "markdown",
   "id": "32db1b96-386e-4dc8-a0f6-71041666d9b3",
   "metadata": {},
   "source": [
    "Basic Level:\n",
    "1. Write a Python program to print the numbers from 1 to 10 using a `for` loop."
   ]
  },
  {
   "cell_type": "code",
   "execution_count": 8,
   "id": "afc5a411-4bd3-4dda-a038-97d55d4e533d",
   "metadata": {},
   "outputs": [
    {
     "name": "stdout",
     "output_type": "stream",
     "text": [
      "0 1 2 3 4 5 6 7 8 9 10 "
     ]
    }
   ],
   "source": [
    "#Creating a range from 1 to 10\n",
    "\n",
    "A = range(0,11)\n",
    "for i in A :\n",
    "    #Printing the number from 1 to 20 using for loop\n",
    "    print(i,end=' ')"
   ]
  },
  {
   "cell_type": "markdown",
   "id": "ecd410fa-29e3-4451-b2a0-c1beaea3634d",
   "metadata": {},
   "source": [
    "2. Create a program that calculates the sum of all numbers in a list using a `for` loop."
   ]
  },
  {
   "cell_type": "code",
   "execution_count": 14,
   "id": "60c3abba-0463-4ea5-9e68-f5c96e9df842",
   "metadata": {},
   "outputs": [
    {
     "name": "stdout",
     "output_type": "stream",
     "text": [
      "The sum of all the numbers is : 216\n"
     ]
    }
   ],
   "source": [
    "#Creating a list\n",
    "\n",
    "A = [25,16,41,99,35]\n",
    "\n",
    "#Keeping the sum count = 0 \n",
    "J = 0\n",
    "\n",
    "for I in A :\n",
    "    J += I\n",
    "print('The sum of all the numbers is :', J)"
   ]
  },
  {
   "cell_type": "markdown",
   "id": "7e89e645-e611-430f-8279-7a055c783a62",
   "metadata": {},
   "source": [
    "3. Write a program to print the characters of a string in reverse order using a `for` loop."
   ]
  },
  {
   "cell_type": "code",
   "execution_count": 18,
   "id": "f60a454c-3d77-462e-b0bd-9ccdd6980a69",
   "metadata": {},
   "outputs": [
    {
     "name": "stdout",
     "output_type": "stream",
     "text": [
      "dlroW olleH"
     ]
    }
   ],
   "source": [
    "#Creating the string\n",
    "String = 'Hello World'\n",
    "\n",
    "#Using for loop to print the new string\n",
    "for I in reversed(String) :\n",
    "    print(I,end='')\n",
    "    "
   ]
  },
  {
   "cell_type": "markdown",
   "id": "8864b77f-79e1-4ef6-899f-22db07f943b3",
   "metadata": {},
   "source": [
    "4. Develop a program that finds the factorial of a given number using a `for` loop."
   ]
  },
  {
   "cell_type": "code",
   "execution_count": 24,
   "id": "4c0f63d4-4707-4e8c-964b-2c7283576f95",
   "metadata": {},
   "outputs": [
    {
     "name": "stdin",
     "output_type": "stream",
     "text": [
      "Enter a number:  25\n"
     ]
    },
    {
     "name": "stdout",
     "output_type": "stream",
     "text": [
      "The factorial of 25 is: 15511210043330985984000000\n"
     ]
    }
   ],
   "source": [
    "# Function to calculate factorial\n",
    "def factorial(n):\n",
    "    # Initialize the result to 1\n",
    "    result = 1\n",
    "    \n",
    "    # Iterate from 1 to n and multiply each number with the result\n",
    "    for i in range(1, n+1):\n",
    "        result *= i\n",
    "    \n",
    "    return result\n",
    "\n",
    "# Input a number\n",
    "num = int(input(\"Enter a number: \"))\n",
    "\n",
    "# Check if the input is a non-negative integer\n",
    "if num >= 0:\n",
    "    result = factorial(num)\n",
    "    print(f\"The factorial of {num} is:\", result)\n",
    "else:\n",
    "    print(\"Factorial is not defined for negative numbers.\")"
   ]
  },
  {
   "cell_type": "markdown",
   "id": "de9dc34e-56eb-45ee-a2c1-0f5835b0e011",
   "metadata": {},
   "source": [
    "5. Create a program to print the multiplication table of a given number using a `for` loop."
   ]
  },
  {
   "cell_type": "code",
   "execution_count": 26,
   "id": "d739dbed-2ec4-49ef-997a-1203dfa6a5cc",
   "metadata": {},
   "outputs": [
    {
     "name": "stdin",
     "output_type": "stream",
     "text": [
      "Enter a number:  10\n"
     ]
    },
    {
     "name": "stdout",
     "output_type": "stream",
     "text": [
      "Multiplication table for 10:\n",
      "10 x 1 = 10\n",
      "10 x 2 = 20\n",
      "10 x 3 = 30\n",
      "10 x 4 = 40\n",
      "10 x 5 = 50\n",
      "10 x 6 = 60\n",
      "10 x 7 = 70\n",
      "10 x 8 = 80\n",
      "10 x 9 = 90\n",
      "10 x 10 = 100\n"
     ]
    }
   ],
   "source": [
    "# Input a number for which you want to print the multiplication table\n",
    "num = int(input(\"Enter a number: \"))\n",
    "\n",
    "# Check if the input is a positive integer\n",
    "if num > 0:\n",
    "    print(f\"Multiplication table for {num}:\")\n",
    "    \n",
    "    # Use a for loop to print the table from 1 to 10\n",
    "    for i in range(1, 11):\n",
    "        result = num * i\n",
    "        print(f\"{num} x {i} = {result}\")\n",
    "else:\n",
    "    print(\"Please enter a positive integer to generate the multiplication table.\")\n",
    "    "
   ]
  },
  {
   "cell_type": "markdown",
   "id": "d5745aff-757f-4a43-9e36-8b4fc4e24f5d",
   "metadata": {},
   "source": [
    "6. Write a program that counts the number of even and odd numbers in a list using a `for` loop."
   ]
  },
  {
   "cell_type": "code",
   "execution_count": 29,
   "id": "ca57f4ed-935c-433d-8e2c-40c7fda0d8bc",
   "metadata": {},
   "outputs": [
    {
     "name": "stdout",
     "output_type": "stream",
     "text": [
      "Number of even numbers: 3\n",
      "Number of odd numbers: 4\n"
     ]
    }
   ],
   "source": [
    "# Define a list of numbers\n",
    "numbers = [33,36,72,19,85,46,85]\n",
    "\n",
    "# Initialize counters for even and odd numbers\n",
    "even_count = 0\n",
    "odd_count = 0\n",
    "\n",
    "# Iterate through the list using a for loop\n",
    "for number in numbers:\n",
    "    if number % 2 == 0:\n",
    "        even_count += 1\n",
    "    else:\n",
    "        odd_count += 1\n",
    "\n",
    "# Print the results\n",
    "print(f\"Number of even numbers: {even_count}\")\n",
    "print(f\"Number of odd numbers: {odd_count}\")\n"
   ]
  },
  {
   "cell_type": "markdown",
   "id": "0ab4970f-857e-472a-9a9e-9dbc9f68deae",
   "metadata": {},
   "source": [
    "7. Develop a program that prints the squares of numbers from 1 to 5 using a `for` loop."
   ]
  },
  {
   "cell_type": "code",
   "execution_count": 31,
   "id": "8ba9e0a7-6496-47db-9236-bd5963569153",
   "metadata": {},
   "outputs": [
    {
     "name": "stdout",
     "output_type": "stream",
     "text": [
      "The square of 1 is: 1\n",
      "The square of 2 is: 4\n",
      "The square of 3 is: 9\n",
      "The square of 4 is: 16\n",
      "The square of 5 is: 25\n"
     ]
    }
   ],
   "source": [
    "# Use a for loop to iterate from 1 to 5\n",
    "for i in range(1, 6):\n",
    "    square = i ** 2\n",
    "    print(f\"The square of {i} is:\", square)"
   ]
  },
  {
   "cell_type": "markdown",
   "id": "4fc7f4db-9f21-4827-9f81-cc0efb48734d",
   "metadata": {},
   "source": [
    "8. Create a program to find the length of a string without using the `len()` function."
   ]
  },
  {
   "cell_type": "code",
   "execution_count": 33,
   "id": "b00d9f94-0153-45ad-9150-6315c94abcd1",
   "metadata": {},
   "outputs": [
    {
     "name": "stdout",
     "output_type": "stream",
     "text": [
      "The length of the string is: 13\n"
     ]
    }
   ],
   "source": [
    "# Input string\n",
    "input_string = \"Hello, World!\"\n",
    "\n",
    "# Initialize a counter for the length\n",
    "length = 0\n",
    "\n",
    "# Iterate through the string\n",
    "for char in input_string:\n",
    "    length += 1\n",
    "\n",
    "# Print the length of the string\n",
    "print(f\"The length of the string is: {length}\")"
   ]
  },
  {
   "cell_type": "markdown",
   "id": "f62dec2f-2cd0-486a-a0cc-19a209a13f28",
   "metadata": {},
   "source": [
    "9. Write a program that calculates the average of a list of numbers using a `for` loop."
   ]
  },
  {
   "cell_type": "code",
   "execution_count": 35,
   "id": "cd0a28ed-91b3-4a99-8ac5-d495e8122e8d",
   "metadata": {},
   "outputs": [
    {
     "name": "stdout",
     "output_type": "stream",
     "text": [
      "The average of the numbers is: 13.0\n"
     ]
    }
   ],
   "source": [
    "# Define a list of numbers\n",
    "numbers = [12, 15, 20, 10, 8]\n",
    "\n",
    "# Initialize variables for sum and count\n",
    "total_sum = 0\n",
    "count = 0\n",
    "\n",
    "# Iterate through the list using a for loop\n",
    "for number in numbers:\n",
    "    total_sum += number\n",
    "    count += 1\n",
    "\n",
    "# Calculate the average\n",
    "average = total_sum / count\n",
    "\n",
    "# Print the result\n",
    "print(f\"The average of the numbers is: {average}\")"
   ]
  },
  {
   "cell_type": "markdown",
   "id": "1758a839-df0f-4dfd-9de0-63c271f29a78",
   "metadata": {},
   "source": [
    "10. Develop a program that prints the first `n` Fibonacci numbers using a `for` loop."
   ]
  },
  {
   "cell_type": "code",
   "execution_count": 38,
   "id": "7927c369-f1e2-46fd-a4f7-7d5dabb3b4b5",
   "metadata": {},
   "outputs": [
    {
     "name": "stdin",
     "output_type": "stream",
     "text": [
      "Enter the number of Fibonacci numbers to generate:  25\n"
     ]
    },
    {
     "name": "stdout",
     "output_type": "stream",
     "text": [
      "The first 25 Fibonacci numbers are: [0, 1, 1, 2, 3, 5, 8, 13, 21, 34, 55, 89, 144, 233, 377, 610, 987, 1597, 2584, 4181, 6765, 10946, 17711, 28657, 46368]\n"
     ]
    }
   ],
   "source": [
    "# Function to generate Fibonacci numbers\n",
    "def generate_fibonacci(n):\n",
    "    fib_numbers = [0, 1]\n",
    "\n",
    "    if n == 1:\n",
    "        return [0]\n",
    "    elif n == 2:\n",
    "        return fib_numbers\n",
    "\n",
    "    for i in range(2, n):\n",
    "        next_fib = fib_numbers[-1] + fib_numbers[-2]\n",
    "        fib_numbers.append(next_fib)\n",
    "\n",
    "    return fib_numbers\n",
    "\n",
    "# Input the number of Fibonacci numbers to generate\n",
    "n = int(input(\"Enter the number of Fibonacci numbers to generate: \"))\n",
    "\n",
    "# Check if the input is valid\n",
    "if n <= 0:\n",
    "    print(\"Please enter a positive integer.\")\n",
    "else:\n",
    "    fibonacci_sequence = generate_fibonacci(n)\n",
    "    print(f\"The first {n} Fibonacci numbers are:\", fibonacci_sequence)"
   ]
  },
  {
   "cell_type": "markdown",
   "id": "47fdd412-8af5-4ff8-a3bd-e8a2f2431fe5",
   "metadata": {},
   "source": [
    "Intermediate Level:\n",
    "\n",
    "11. Write a program to check if a given list contains any duplicates using a `for` loop."
   ]
  },
  {
   "cell_type": "code",
   "execution_count": 40,
   "id": "f4446b4c-b4b6-4df2-8d72-f05b028a01cb",
   "metadata": {},
   "outputs": [
    {
     "name": "stdout",
     "output_type": "stream",
     "text": [
      "The list contains duplicates.\n"
     ]
    }
   ],
   "source": [
    "# Define a list\n",
    "my_list = [4, 7, 2, 9, 1, 4, 6, 2]\n",
    "\n",
    "# Initialize a set to store unique elements\n",
    "unique_elements = set()\n",
    "\n",
    "# Initialize a flag for duplicates\n",
    "has_duplicates = False\n",
    "\n",
    "# Iterate through the list using a for loop\n",
    "for item in my_list:\n",
    "    if item in unique_elements:\n",
    "        has_duplicates = True\n",
    "        break\n",
    "    else:\n",
    "        unique_elements.add(item)\n",
    "\n",
    "# Check if duplicates were found\n",
    "if has_duplicates:\n",
    "    print(\"The list contains duplicates.\")\n",
    "else:\n",
    "    print(\"The list does not contain duplicates.\")"
   ]
  },
  {
   "cell_type": "markdown",
   "id": "0b2b0103-b359-4899-95df-aa53ab99855d",
   "metadata": {},
   "source": [
    "12. Create a program that prints the prime numbers in a given range using a `for` loop."
   ]
  },
  {
   "cell_type": "code",
   "execution_count": 42,
   "id": "a3b30092-c34b-46d5-a671-b8e8c7143f09",
   "metadata": {},
   "outputs": [
    {
     "name": "stdin",
     "output_type": "stream",
     "text": [
      "Enter the starting number of the range:  10\n",
      "Enter the ending number of the range:  25\n"
     ]
    },
    {
     "name": "stdout",
     "output_type": "stream",
     "text": [
      "The prime numbers in the range 10 to 25 are:\n",
      "11\n",
      "13\n",
      "17\n",
      "19\n",
      "23\n"
     ]
    }
   ],
   "source": [
    "# Function to check if a number is prime\n",
    "def is_prime(num):\n",
    "    if num < 2:\n",
    "        return False\n",
    "    for i in range(2, int(num**0.5) + 1):\n",
    "        if num % i == 0:\n",
    "            return False\n",
    "    return True\n",
    "\n",
    "# Input the range\n",
    "start = int(input(\"Enter the starting number of the range: \"))\n",
    "end = int(input(\"Enter the ending number of the range: \"))\n",
    "\n",
    "# Check if the inputs are valid\n",
    "if start >= end or start < 2:\n",
    "    print(\"Please enter a valid range.\")\n",
    "else:\n",
    "    print(f\"The prime numbers in the range {start} to {end} are:\")\n",
    "    for num in range(start, end+1):\n",
    "        if is_prime(num):\n",
    "            print(num)"
   ]
  },
  {
   "cell_type": "markdown",
   "id": "938aeb03-685b-4a9b-9885-815c18ce8655",
   "metadata": {},
   "source": [
    "13. Develop a program that counts the number of vowels in a string using a `for` loop."
   ]
  },
  {
   "cell_type": "code",
   "execution_count": 44,
   "id": "af846052-d268-48a3-af0f-1d073c45dfc9",
   "metadata": {},
   "outputs": [
    {
     "name": "stdin",
     "output_type": "stream",
     "text": [
      "Enter a string:  India is a beautiful country\n"
     ]
    },
    {
     "name": "stdout",
     "output_type": "stream",
     "text": [
      "The number of vowels in the string is: 12\n"
     ]
    }
   ],
   "source": [
    "# Function to check if a character is a vowel\n",
    "def is_vowel(char):\n",
    "    vowels = \"aeiouAEIOU\"\n",
    "    return char in vowels\n",
    "\n",
    "# Input string\n",
    "input_string = input(\"Enter a string: \")\n",
    "\n",
    "# Initialize a counter for vowels\n",
    "vowel_count = 0\n",
    "\n",
    "# Iterate through the string using a for loop\n",
    "for char in input_string:\n",
    "    if is_vowel(char):\n",
    "        vowel_count += 1\n",
    "\n",
    "# Print the result\n",
    "print(f\"The number of vowels in the string is: {vowel_count}\")"
   ]
  },
  {
   "cell_type": "markdown",
   "id": "de7fb9f7-261c-41d7-bc03-3c0fbec3d6e8",
   "metadata": {},
   "source": [
    "14. Write a program to find the maximum element in a 2D list using a nested `for` loop."
   ]
  },
  {
   "cell_type": "code",
   "execution_count": 46,
   "id": "814acb4e-6d81-473d-bb65-1e696c191805",
   "metadata": {},
   "outputs": [
    {
     "name": "stdout",
     "output_type": "stream",
     "text": [
      "The maximum element in the 2D list is: 9\n"
     ]
    }
   ],
   "source": [
    "# Define a 2D list\n",
    "matrix = [\n",
    "    [3, 7, 1],\n",
    "    [4, 2, 9],\n",
    "    [5, 8, 6]\n",
    "]\n",
    "\n",
    "# Initialize max_element to the first element of the list\n",
    "max_element = matrix[0][0]\n",
    "\n",
    "# Iterate through the 2D list using nested for loops\n",
    "for row in matrix:\n",
    "    for element in row:\n",
    "        if element > max_element:\n",
    "            max_element = element\n",
    "\n",
    "# Print the result\n",
    "print(f\"The maximum element in the 2D list is: {max_element}\")"
   ]
  },
  {
   "cell_type": "markdown",
   "id": "0f05336e-7cfb-4d11-bf01-bddccaf54690",
   "metadata": {},
   "source": [
    "15. Create a program that removes all occurrences of a specific element from a list using a `for` loop."
   ]
  },
  {
   "cell_type": "code",
   "execution_count": 48,
   "id": "9f2e1253-c641-4ad0-a26f-3eaeee958fc1",
   "metadata": {},
   "outputs": [
    {
     "name": "stdout",
     "output_type": "stream",
     "text": [
      "The list after removing 2 is: [4, 5, 8, 6]\n"
     ]
    }
   ],
   "source": [
    "# Function to remove all occurrences of an element from a list\n",
    "def remove_element(lst, element):\n",
    "    return [x for x in lst if x != element]\n",
    "\n",
    "# Input list\n",
    "my_list = [4, 2, 5, 2, 8, 2, 6, 2]\n",
    "\n",
    "# Input element to be removed\n",
    "element_to_remove = 2\n",
    "\n",
    "# Remove occurrences of the element\n",
    "result_list = remove_element(my_list, element_to_remove)\n",
    "\n",
    "# Print the result\n",
    "print(f\"The list after removing {element_to_remove} is:\", result_list)"
   ]
  },
  {
   "cell_type": "markdown",
   "id": "882728e6-4388-4302-ae74-36517ef8abe5",
   "metadata": {},
   "source": [
    "16. Develop a program that generates a multiplication table for numbers from 1 to 5 using a nested `for` loop."
   ]
  },
  {
   "cell_type": "code",
   "execution_count": 50,
   "id": "a6da2c00-f884-4f1e-b082-78cc7b401ffc",
   "metadata": {},
   "outputs": [
    {
     "name": "stdout",
     "output_type": "stream",
     "text": [
      "The list after removing 2 is: [4, 5, 8, 6]\n"
     ]
    }
   ],
   "source": [
    "# Function to remove all occurrences of an element from a list\n",
    "def remove_element(lst, element):\n",
    "    return [x for x in lst if x != element]\n",
    "\n",
    "# Input list\n",
    "my_list = [4, 2, 5, 2, 8, 2, 6, 2]\n",
    "\n",
    "# Input element to be removed\n",
    "element_to_remove = 2\n",
    "\n",
    "# Remove occurrences of the element\n",
    "result_list = remove_element(my_list, element_to_remove)\n",
    "\n",
    "# Print the result\n",
    "print(f\"The list after removing {element_to_remove} is:\", result_list)"
   ]
  },
  {
   "cell_type": "markdown",
   "id": "95f602a5-0346-43d5-84af-fc4a258738e0",
   "metadata": {},
   "source": [
    "17. Write a program that converts a list of Fahrenheit temperatures to Celsius using a `for` loop."
   ]
  },
  {
   "cell_type": "code",
   "execution_count": 52,
   "id": "1311dedd-d352-492a-9657-1b8921a2116c",
   "metadata": {},
   "outputs": [
    {
     "name": "stdout",
     "output_type": "stream",
     "text": [
      "Fahrenheit Temperatures: [98.6, 102.2, 68.0, 86.9, 104.5]\n",
      "Corresponding Celsius Temperatures: [37.0, 39.0, 20.0, 30.5, 40.27777777777778]\n"
     ]
    }
   ],
   "source": [
    "# Function to convert Fahrenheit to Celsius\n",
    "def fahrenheit_to_celsius(fahrenheit):\n",
    "    return (fahrenheit - 32) * 5/9\n",
    "\n",
    "# List of Fahrenheit temperatures\n",
    "fahrenheit_temperatures = [98.6, 102.2, 68.0, 86.9, 104.5]\n",
    "\n",
    "# Initialize an empty list to store Celsius temperatures\n",
    "celsius_temperatures = []\n",
    "\n",
    "# Convert temperatures using a for loop\n",
    "for temp_f in fahrenheit_temperatures:\n",
    "    temp_c = fahrenheit_to_celsius(temp_f)\n",
    "    celsius_temperatures.append(temp_c)\n",
    "\n",
    "# Print the result\n",
    "print(\"Fahrenheit Temperatures:\", fahrenheit_temperatures)\n",
    "print(\"Corresponding Celsius Temperatures:\", celsius_temperatures)"
   ]
  },
  {
   "cell_type": "markdown",
   "id": "a38c40e9-c6f9-4d8d-b881-97865deb732a",
   "metadata": {},
   "source": [
    "18. Create a program to print the common elements from two lists using a `for` loop."
   ]
  },
  {
   "cell_type": "code",
   "execution_count": 54,
   "id": "55a7e3a2-6b9b-4649-adbd-4adf173de26b",
   "metadata": {},
   "outputs": [
    {
     "name": "stdout",
     "output_type": "stream",
     "text": [
      "Common elements: [3, 4, 5]\n"
     ]
    }
   ],
   "source": [
    "# Define two lists\n",
    "list1 = [1, 2, 3, 4, 5]\n",
    "list2 = [3, 4, 5, 6, 7]\n",
    "\n",
    "# Initialize an empty list to store common elements\n",
    "common_elements = []\n",
    "\n",
    "# Use a for loop to check for common elements\n",
    "for element in list1:\n",
    "    if element in list2:\n",
    "        common_elements.append(element)\n",
    "\n",
    "# Print the result\n",
    "print(\"Common elements:\", common_elements)"
   ]
  },
  {
   "cell_type": "markdown",
   "id": "873595b8-f7ee-4db4-8a45-00844026a3bc",
   "metadata": {},
   "source": [
    "19. Develop a program that prints the pattern of right-angled triangles using a `for` loop. Use ‘*’ to draw the\n",
    "pattern"
   ]
  },
  {
   "cell_type": "code",
   "execution_count": 56,
   "id": "c2654a6d-6c48-45a6-8051-114abddcfbf8",
   "metadata": {},
   "outputs": [
    {
     "name": "stdout",
     "output_type": "stream",
     "text": [
      "* \n",
      "* * \n",
      "* * * \n",
      "* * * * \n",
      "* * * * * \n"
     ]
    }
   ],
   "source": [
    "# Define the number of rows for the pattern\n",
    "num_rows = 5\n",
    "\n",
    "# Use a for loop to generate the pattern\n",
    "for i in range(1, num_rows + 1):\n",
    "    print('* ' * i)"
   ]
  },
  {
   "cell_type": "markdown",
   "id": "9b7fd801-396d-47a3-9624-120c81c242aa",
   "metadata": {},
   "source": [
    "20. Write a program to find the greatest common divisor (GCD) of two numbers using a `for` loop."
   ]
  },
  {
   "cell_type": "code",
   "execution_count": 1,
   "id": "8571701a-49a8-49af-96eb-e4e73e8149d5",
   "metadata": {},
   "outputs": [
    {
     "name": "stdin",
     "output_type": "stream",
     "text": [
      "Enter the first number:  4\n",
      "Enter the second number:  2\n"
     ]
    },
    {
     "name": "stdout",
     "output_type": "stream",
     "text": [
      "The GCD of 4 and 2 is: 2\n"
     ]
    }
   ],
   "source": [
    "# Function to find the GCD of two numbers\n",
    "def find_gcd(a, b):\n",
    "    while b:\n",
    "        a, b = b, a % b\n",
    "    return a\n",
    "\n",
    "# Input two numbers\n",
    "num1 = int(input(\"Enter the first number: \"))\n",
    "num2 = int(input(\"Enter the second number: \"))\n",
    "\n",
    "# Find the GCD using the find_gcd function\n",
    "gcd = find_gcd(num1, num2)\n",
    "\n",
    "# Print the result\n",
    "print(f\"The GCD of {num1} and {num2} is: {gcd}\")\n"
   ]
  },
  {
   "cell_type": "markdown",
   "id": "c6f8bb06-751f-4ccc-9a29-4da18a1a6d44",
   "metadata": {},
   "source": [
    "Advanced Level:\n",
    "\n",
    "21. Create a program that calculates the sum of the digits of numbers in a list using a list comprehension."
   ]
  },
  {
   "cell_type": "code",
   "execution_count": 3,
   "id": "1f5536bd-2eb2-4574-9706-501b09080ffe",
   "metadata": {},
   "outputs": [
    {
     "name": "stdout",
     "output_type": "stream",
     "text": [
      "The sum of digits in 123 is 6\n",
      "The sum of digits in 456 is 15\n",
      "The sum of digits in 789 is 24\n"
     ]
    }
   ],
   "source": [
    "def sum_of_digits(number):\n",
    "    return sum(int(digit) for digit in str(number))\n",
    "\n",
    "def main():\n",
    "    # Example list of numbers\n",
    "    numbers = [123, 456, 789]\n",
    "\n",
    "    # Calculate the sum of digits using list comprehension\n",
    "    sums = [sum_of_digits(num) for num in numbers]\n",
    "\n",
    "    # Print the results\n",
    "    for i, num in enumerate(numbers):\n",
    "        print(f\"The sum of digits in {num} is {sums[i]}\")\n",
    "\n",
    "if __name__ == \"__main__\":\n",
    "    main()"
   ]
  },
  {
   "cell_type": "markdown",
   "id": "0c63803b-0186-497a-ba2e-149a9fb3bd0b",
   "metadata": {},
   "source": [
    "22. Write a program to find the prime factors of a given number using a `for` loop and list comprehension."
   ]
  },
  {
   "cell_type": "code",
   "execution_count": 4,
   "id": "2266bf03-b150-4a8f-9750-a4be12b69aff",
   "metadata": {},
   "outputs": [
    {
     "name": "stdin",
     "output_type": "stream",
     "text": [
      "Enter a positive integer:  35\n"
     ]
    },
    {
     "name": "stdout",
     "output_type": "stream",
     "text": [
      "The prime factors of 35 are: 5, 7\n"
     ]
    }
   ],
   "source": [
    "def find_prime_factors(number):\n",
    "    factors = []\n",
    "    for i in range(2, number+1):\n",
    "        while number % i == 0:\n",
    "            factors.append(i)\n",
    "            number //= i\n",
    "    return factors\n",
    "\n",
    "def main():\n",
    "    # Get user input for the number\n",
    "    number = int(input(\"Enter a positive integer: \"))\n",
    "\n",
    "    # Find prime factors using list comprehension and for loop\n",
    "    prime_factors = [factor for factor in find_prime_factors(number) if all(factor % i != 0 for i in range(2, factor))]\n",
    "\n",
    "    # Print the prime factors\n",
    "    if len(prime_factors) == 1:\n",
    "        print(f\"The prime factor of {number} is: {prime_factors[0]}\")\n",
    "    else:\n",
    "        print(f\"The prime factors of {number} are: {', '.join(map(str, prime_factors))}\")\n",
    "\n",
    "if __name__ == \"__main__\":\n",
    "    main()"
   ]
  },
  {
   "cell_type": "markdown",
   "id": "049b6d30-ca3b-4a05-955a-fe39c929fdbf",
   "metadata": {},
   "source": [
    "23. Develop a program that extracts unique elements from a list and stores them in a new list using a list\n",
    "comprehension."
   ]
  },
  {
   "cell_type": "code",
   "execution_count": 6,
   "id": "0c5e0dbf-5708-4470-9c13-1fb5a282267c",
   "metadata": {},
   "outputs": [
    {
     "name": "stdout",
     "output_type": "stream",
     "text": [
      "Original list: [1, 2, 3, 4, 2, 3, 5, 6, 4, 7, 8, 7]\n",
      "Unique elements: [1, 2, 3, 4, 5, 6, 7, 8]\n"
     ]
    }
   ],
   "source": [
    "def extract_unique_elements(input_list):\n",
    "    return [x for i, x in enumerate(input_list) if input_list.index(x) == i]\n",
    "\n",
    "def main():\n",
    "    # Example list with duplicates\n",
    "    input_list = [1, 2, 3, 4, 2, 3, 5, 6, 4, 7, 8, 7]\n",
    "\n",
    "    # Extract unique elements using list comprehension\n",
    "    unique_elements = extract_unique_elements(input_list)\n",
    "\n",
    "    # Print the unique elements\n",
    "    print(\"Original list:\", input_list)\n",
    "    print(\"Unique elements:\", unique_elements)\n",
    "\n",
    "if __name__ == \"__main__\":\n",
    "    main()"
   ]
  },
  {
   "cell_type": "markdown",
   "id": "c5062948-fc11-4059-8b79-6ad1e65aed28",
   "metadata": {},
   "source": [
    "24. Create a program that generates a list of all palindromic numbers up to a specified limit using a list\n",
    "comprehension."
   ]
  },
  {
   "cell_type": "code",
   "execution_count": 8,
   "id": "b5420e29-4725-4667-b74e-310f3367a3ba",
   "metadata": {},
   "outputs": [
    {
     "name": "stdin",
     "output_type": "stream",
     "text": [
      "Enter a positive integer as the limit:  35\n"
     ]
    },
    {
     "name": "stdout",
     "output_type": "stream",
     "text": [
      "Palindromic numbers up to 35:\n",
      "[0, 1, 2, 3, 4, 5, 6, 7, 8, 9, 11, 22, 33]\n"
     ]
    }
   ],
   "source": [
    "def is_palindrome(number):\n",
    "    return str(number) == str(number)[::-1]\n",
    "\n",
    "def generate_palindromic_numbers(limit):\n",
    "    return [num for num in range(limit + 1) if is_palindrome(num)]\n",
    "\n",
    "def main():\n",
    "    # Get user input for the limit\n",
    "    limit = int(input(\"Enter a positive integer as the limit: \"))\n",
    "\n",
    "    # Generate palindromic numbers using list comprehension\n",
    "    palindromic_numbers = generate_palindromic_numbers(limit)\n",
    "\n",
    "    # Print the palindromic numbers\n",
    "    print(f\"Palindromic numbers up to {limit}:\")\n",
    "    print(palindromic_numbers)\n",
    "\n",
    "if __name__ == \"__main__\":\n",
    "    main()"
   ]
  },
  {
   "cell_type": "markdown",
   "id": "8307d773-fe05-4028-b768-7207fb3be958",
   "metadata": {},
   "source": [
    "25. Write a program to flatten a nested list using list comprehension."
   ]
  },
  {
   "cell_type": "code",
   "execution_count": 9,
   "id": "90f33342-e9f0-427e-be27-c732f9eb0076",
   "metadata": {},
   "outputs": [
    {
     "name": "stdout",
     "output_type": "stream",
     "text": [
      "Nested List: [1, [2, 3], [4, [5, 6]], 7, [8, 9]]\n",
      "Flattened List: [1, 2, 3, 4, [5, 6], 7, 8, 9]\n"
     ]
    }
   ],
   "source": [
    "def flatten_nested_list(nested_list):\n",
    "    # Use a list comprehension to flatten the nested list\n",
    "    flattened_list = [item for sublist in nested_list for item in (sublist if isinstance(sublist, list) else [sublist])]\n",
    "    return flattened_list\n",
    "\n",
    "def main():\n",
    "    # Example nested list\n",
    "    nested_list = [1, [2, 3], [4, [5, 6]], 7, [8, 9]]\n",
    "\n",
    "    # Flatten the nested list\n",
    "    flattened_list = flatten_nested_list(nested_list)\n",
    "\n",
    "    # Print the flattened list\n",
    "    print(\"Nested List:\", nested_list)\n",
    "    print(\"Flattened List:\", flattened_list)\n",
    "\n",
    "if __name__ == \"__main__\":\n",
    "    main()"
   ]
  },
  {
   "cell_type": "markdown",
   "id": "ad265b4c-ca83-41b9-98af-83d21b75bff1",
   "metadata": {},
   "source": [
    "26. Develop a program that computes the sum of even and odd numbers in a list separately using list\n",
    "comprehension."
   ]
  },
  {
   "cell_type": "code",
   "execution_count": 11,
   "id": "669895f6-52a3-47af-808c-bd947add99f4",
   "metadata": {},
   "outputs": [
    {
     "name": "stdout",
     "output_type": "stream",
     "text": [
      "Sum of even numbers: 30\n",
      "Sum of odd numbers: 25\n"
     ]
    }
   ],
   "source": [
    "def main():\n",
    "    # Example list of numbers\n",
    "    numbers = [1, 2, 3, 4, 5, 6, 7, 8, 9, 10]\n",
    "\n",
    "    # Calculate the sum of even and odd numbers using list comprehension\n",
    "    even_sum = sum([x for x in numbers if x % 2 == 0])\n",
    "    odd_sum = sum([x for x in numbers if x % 2 != 0])\n",
    "\n",
    "    # Print the results\n",
    "    print(f\"Sum of even numbers: {even_sum}\")\n",
    "    print(f\"Sum of odd numbers: {odd_sum}\")\n",
    "\n",
    "if __name__ == \"__main__\":\n",
    "    main()"
   ]
  },
  {
   "cell_type": "markdown",
   "id": "face041e-9741-4141-a213-b8e027cfb824",
   "metadata": {},
   "source": [
    "27. Create a program that generates a list of squares of odd numbers between 1 and 10 using list\n",
    "comprehension."
   ]
  },
  {
   "cell_type": "code",
   "execution_count": 13,
   "id": "7bd0c59a-c199-49dd-b223-bd2a0f32549d",
   "metadata": {},
   "outputs": [
    {
     "name": "stdout",
     "output_type": "stream",
     "text": [
      "Squares of odd numbers between 1 and 10:\n",
      "[1, 9, 25, 49, 81]\n"
     ]
    }
   ],
   "source": [
    "def main():\n",
    "    # Generate a list of squares of odd numbers using list comprehension\n",
    "    odd_squares = [x**2 for x in range(1, 11) if x % 2 != 0]\n",
    "\n",
    "    # Print the list of squares\n",
    "    print(\"Squares of odd numbers between 1 and 10:\")\n",
    "    print(odd_squares)\n",
    "\n",
    "if __name__ == \"__main__\":\n",
    "    main()"
   ]
  },
  {
   "cell_type": "markdown",
   "id": "fa04259a-733c-4ca9-814f-6f69e84af6a3",
   "metadata": {},
   "source": [
    "28. Write a program that combines two lists into a dictionary using list comprehension."
   ]
  },
  {
   "cell_type": "code",
   "execution_count": 14,
   "id": "d5a25a28-13c3-44d1-903f-1b0102a499ec",
   "metadata": {},
   "outputs": [
    {
     "name": "stdout",
     "output_type": "stream",
     "text": [
      "Combined Dictionary:\n",
      "{'a': 1, 'b': 2, 'c': 3}\n"
     ]
    }
   ],
   "source": [
    "def main():\n",
    "    # Example lists\n",
    "    keys = ['a', 'b', 'c']\n",
    "    values = [1, 2, 3]\n",
    "\n",
    "    # Combine the lists into a dictionary using list comprehension\n",
    "    combined_dict = {keys[i]: values[i] for i in range(len(keys))}\n",
    "\n",
    "    # Print the resulting dictionary\n",
    "    print(\"Combined Dictionary:\")\n",
    "    print(combined_dict)\n",
    "\n",
    "if __name__ == \"__main__\":\n",
    "    main()\n",
    "    "
   ]
  },
  {
   "cell_type": "markdown",
   "id": "c29fa7c1-6cee-4d67-991b-473f9ebe88a2",
   "metadata": {},
   "source": [
    "29. Develop a program that extracts the vowels from a string and stores them in a list using list comprehension."
   ]
  },
  {
   "cell_type": "code",
   "execution_count": 17,
   "id": "3f87821a-7b9d-41b4-a04b-e9eba8d5311a",
   "metadata": {},
   "outputs": [
    {
     "name": "stdin",
     "output_type": "stream",
     "text": [
      "Enter a string:  India is a beautiful country\n"
     ]
    },
    {
     "name": "stdout",
     "output_type": "stream",
     "text": [
      "Vowels in the string: ['i', 'i', 'a', 'i', 'a', 'e', 'a', 'u', 'i', 'u', 'o', 'u']\n"
     ]
    }
   ],
   "source": [
    "def extract_vowels(input_string):\n",
    "    vowels = ['a', 'e', 'i', 'o', 'u']\n",
    "    return [char for char in input_string.lower() if char in vowels]\n",
    "\n",
    "def main():\n",
    "    # Get user input for the string\n",
    "    input_string = input(\"Enter a string: \")\n",
    "\n",
    "    # Extract vowels using list comprehension\n",
    "    vowels_list = extract_vowels(input_string)\n",
    "\n",
    "    # Print the list of vowels\n",
    "    print(\"Vowels in the string:\", vowels_list)\n",
    "\n",
    "if __name__ == \"__main__\":\n",
    "    main()"
   ]
  },
  {
   "cell_type": "markdown",
   "id": "6c26fe13-353d-49aa-b7fb-e18d693fa4c9",
   "metadata": {},
   "source": [
    "30. Create a program that removes all non-numeric characters from a list of strings using list comprehension."
   ]
  },
  {
   "cell_type": "code",
   "execution_count": 19,
   "id": "08fb0206-1ac3-4a29-bb53-9d86d6f09a1c",
   "metadata": {},
   "outputs": [
    {
     "name": "stdout",
     "output_type": "stream",
     "text": [
      "Original List: ['abc123', '456def', '789ghi']\n",
      "List with Non-Numeric Characters Removed: ['123', '456', '789']\n"
     ]
    }
   ],
   "source": [
    "def remove_non_numeric(strings):\n",
    "    return [''.join(char for char in string if char.isnumeric()) for string in strings]\n",
    "\n",
    "def main():\n",
    "    # Example list of strings\n",
    "    strings = ['abc123', '456def', '789ghi']\n",
    "\n",
    "    # Remove non-numeric characters using list comprehension\n",
    "    numeric_strings = remove_non_numeric(strings)\n",
    "\n",
    "    # Print the result\n",
    "    print(\"Original List:\", strings)\n",
    "    print(\"List with Non-Numeric Characters Removed:\", numeric_strings)\n",
    "\n",
    "if __name__ == \"__main__\":\n",
    "    main()"
   ]
  },
  {
   "cell_type": "markdown",
   "id": "38610d0e-a66c-46c4-81d2-6478a3c75282",
   "metadata": {},
   "source": [
    "Challenge Level:\n",
    "\n",
    "31. Write a program to generate a list of prime numbers using the Sieve of Eratosthenes algorithm and list\n",
    "comprehension."
   ]
  },
  {
   "cell_type": "code",
   "execution_count": 21,
   "id": "0ae4d0c0-a7d7-4f75-ba78-4e5f0e6c93a2",
   "metadata": {},
   "outputs": [
    {
     "name": "stdin",
     "output_type": "stream",
     "text": [
      "Enter a positive integer as the limit:  25\n"
     ]
    },
    {
     "name": "stdout",
     "output_type": "stream",
     "text": [
      "Prime numbers up to 25:\n",
      "[2, 3, 5, 7, 11, 13, 17, 19, 23]\n"
     ]
    }
   ],
   "source": [
    "def sieve_of_eratosthenes(limit):\n",
    "    is_prime = [True] * (limit + 1)\n",
    "    is_prime[0] = is_prime[1] = False\n",
    "    for i in range(2, int(limit**0.5) + 1):\n",
    "        if is_prime[i]:\n",
    "            is_prime[i*i:limit+1:i] = [False] * len(is_prime[i*i:limit+1:i])\n",
    "    return [x for x in range(2, limit + 1) if is_prime[x]]\n",
    "\n",
    "def main():\n",
    "    # Get user input for the limit\n",
    "    limit = int(input(\"Enter a positive integer as the limit: \"))\n",
    "\n",
    "    # Generate a list of prime numbers using Sieve of Eratosthenes\n",
    "    prime_numbers = sieve_of_eratosthenes(limit)\n",
    "\n",
    "    # Print the list of prime numbers\n",
    "    print(f\"Prime numbers up to {limit}:\")\n",
    "    print(prime_numbers)\n",
    "\n",
    "if __name__ == \"__main__\":\n",
    "    main()"
   ]
  },
  {
   "cell_type": "markdown",
   "id": "21b91400-4161-470a-81be-4ba3ae8db49a",
   "metadata": {},
   "source": [
    "32. Create a program that generates a list of all Pythagorean triplets up to a specified limit using list\n",
    "comprehension."
   ]
  },
  {
   "cell_type": "code",
   "execution_count": 24,
   "id": "e75e934f-2db0-4e3a-9c3d-f5c2307ea5b5",
   "metadata": {},
   "outputs": [
    {
     "name": "stdin",
     "output_type": "stream",
     "text": [
      "Enter a positive integer as the limit:  35\n"
     ]
    },
    {
     "name": "stdout",
     "output_type": "stream",
     "text": [
      "Pythagorean triplets up to 35:\n",
      "[(3, 4, 5), (5, 12, 13), (6, 8, 10), (7, 24, 25), (8, 15, 17), (9, 12, 15), (10, 24, 26), (12, 16, 20), (15, 20, 25), (16, 30, 34), (18, 24, 30), (20, 21, 29), (21, 28, 35)]\n"
     ]
    }
   ],
   "source": [
    "def generate_pythagorean_triplets(limit):\n",
    "    return[(a, b, c) for a in range(1, limit+1) for b in range(a, limit+1) for c in range(b, limit+1) if a**2 + b**2 == c**2]\n",
    "\n",
    "def main():\n",
    "    # Get user input for the limit\n",
    "    limit = int(input(\"Enter a positive integer as the limit: \"))\n",
    "\n",
    "    # Generate a list of Pythagorean triplets\n",
    "    triplets = generate_pythagorean_triplets(limit)\n",
    "\n",
    "    # Print the list of triplets\n",
    "    print(f\"Pythagorean triplets up to {limit}:\")\n",
    "    print(triplets)\n",
    "\n",
    "if __name__ == \"__main__\":\n",
    "    main()"
   ]
  },
  {
   "cell_type": "markdown",
   "id": "0ba432fe-83f7-4406-adf9-f3fcbe23179c",
   "metadata": {},
   "source": [
    "33. Develop a program that generates a list of all possible combinations of two lists using list comprehension."
   ]
  },
  {
   "cell_type": "code",
   "execution_count": 26,
   "id": "0c9b1806-2591-40d6-9cad-7c3dee812ca5",
   "metadata": {},
   "outputs": [
    {
     "name": "stdout",
     "output_type": "stream",
     "text": [
      "All possible combinations:\n",
      "[(1, 'a'), (1, 'b'), (1, 'c'), (2, 'a'), (2, 'b'), (2, 'c'), (3, 'a'), (3, 'b'), (3, 'c')]\n"
     ]
    }
   ],
   "source": [
    "def generate_combinations(list1, list2):\n",
    "    return [(x, y) for x in list1 for y in list2]\n",
    "\n",
    "def main():\n",
    "    # Example lists\n",
    "    list1 = [1, 2, 3]\n",
    "    list2 = ['a', 'b', 'c']\n",
    "\n",
    "    # Generate combinations using list comprehension\n",
    "    combinations = generate_combinations(list1, list2)\n",
    "\n",
    "    # Print the list of combinations\n",
    "    print(\"All possible combinations:\")\n",
    "    print(combinations)\n",
    "\n",
    "if __name__ == \"__main__\":\n",
    "    main()"
   ]
  },
  {
   "cell_type": "markdown",
   "id": "43852713-dec6-4d1b-9b0b-9857b0f99a8c",
   "metadata": {},
   "source": [
    "34. Write a program that calculates the mean, median, and mode of a list of numbers using list\n",
    "comprehension."
   ]
  },
  {
   "cell_type": "code",
   "execution_count": 28,
   "id": "275f62e8-3e76-4b3c-b50b-215350702bf2",
   "metadata": {},
   "outputs": [
    {
     "name": "stdout",
     "output_type": "stream",
     "text": [
      "Mean: 4\n",
      "Median: 4.5\n",
      "Mode: 5\n"
     ]
    }
   ],
   "source": [
    "from statistics import mean, median, mode\n",
    "\n",
    "def main():\n",
    "    # Example list of numbers\n",
    "    numbers = [1, 2, 2, 3, 4, 5, 5, 5, 6, 7]\n",
    "\n",
    "    # Calculate mean, median, and mode\n",
    "    mean_value = mean(numbers)\n",
    "    median_value = median(numbers)\n",
    "    mode_value = mode(numbers)\n",
    "\n",
    "    # Print the results\n",
    "    print(f\"Mean: {mean_value}\")\n",
    "    print(f\"Median: {median_value}\")\n",
    "    print(f\"Mode: {mode_value}\")\n",
    "\n",
    "if __name__ == \"__main__\":\n",
    "    main()"
   ]
  },
  {
   "cell_type": "markdown",
   "id": "d14c2940-4442-4dad-b980-62b569d65436",
   "metadata": {},
   "source": [
    "35. Create a program that generates Pascal's triangle up to a specified number of rows using list\n",
    "comprehension."
   ]
  },
  {
   "cell_type": "code",
   "execution_count": 31,
   "id": "49476dfc-ac9a-4f6c-ba2a-c55f8f1d6257",
   "metadata": {},
   "outputs": [
    {
     "name": "stdin",
     "output_type": "stream",
     "text": [
      "Enter the number of rows for Pascal's Triangle:  13\n"
     ]
    },
    {
     "name": "stdout",
     "output_type": "stream",
     "text": [
      "                   1                   \n",
      "                  1 1                  \n",
      "                 1 2 1                 \n",
      "                1 3 3 1                \n",
      "               1 4 6 4 1               \n",
      "             1 5 10 10 5 1             \n",
      "            1 6 15 20 15 6 1           \n",
      "          1 7 21 35 35 21 7 1          \n",
      "         1 8 28 56 70 56 28 8 1        \n",
      "      1 9 36 84 126 126 84 36 9 1      \n",
      "  1 10 45 120 210 252 210 120 45 10 1  \n",
      "1 11 55 165 330 462 462 330 165 55 11 1\n",
      "1 12 66 220 495 792 924 792 495 220 66 12 1\n"
     ]
    }
   ],
   "source": [
    "def generate_pascals_triangle(num_rows):\n",
    "    if num_rows == 0:\n",
    "        return []\n",
    "\n",
    "    pascals_triangle = [[1]]\n",
    "    for _ in range(1, num_rows):\n",
    "        new_row = [1] + [pascals_triangle[-1][i-1] + pascals_triangle[-1][i] for i in range(1, len(pascals_triangle[-1]))] + [1]\n",
    "        pascals_triangle.append(new_row)\n",
    "\n",
    "    return pascals_triangle\n",
    "\n",
    "def main():\n",
    "    # Get user input for the number of rows\n",
    "    num_rows = int(input(\"Enter the number of rows for Pascal's Triangle: \"))\n",
    "\n",
    "    # Generate Pascal's Triangle using list comprehension\n",
    "    triangle = generate_pascals_triangle(num_rows)\n",
    "\n",
    "    # Print Pascal's Triangle\n",
    "    for row in triangle:\n",
    "        print(' '.join(map(str, row)).center(num_rows*3))\n",
    "\n",
    "if __name__ == \"__main__\":\n",
    "    main()"
   ]
  },
  {
   "cell_type": "markdown",
   "id": "590e3035-7587-40ef-8671-617f8b4e0f60",
   "metadata": {},
   "source": [
    "36. Develop a program that calculates the sum of the digits of a factorial of numbers from 1 to 5 using list\n",
    "comprehension."
   ]
  },
  {
   "cell_type": "code",
   "execution_count": 33,
   "id": "502c8bc3-4dde-4fdd-83ef-21d788f24d03",
   "metadata": {},
   "outputs": [
    {
     "name": "stdout",
     "output_type": "stream",
     "text": [
      "The sum of digits of 1! is 1\n",
      "The sum of digits of 2! is 2\n",
      "The sum of digits of 3! is 6\n",
      "The sum of digits of 4! is 6\n",
      "The sum of digits of 5! is 3\n"
     ]
    }
   ],
   "source": [
    "def factorial(n):\n",
    "    if n == 0 or n == 1:\n",
    "        return 1\n",
    "    else:\n",
    "        return n * factorial(n - 1)\n",
    "\n",
    "def sum_of_digits(n):\n",
    "    return sum(int(digit) for digit in str(n))\n",
    "\n",
    "def main():\n",
    "    # Calculate the sum of digits of factorials from 1 to 5 using list comprehension\n",
    "    sums_of_digits = [sum_of_digits(factorial(n)) for n in range(1, 6)]\n",
    "\n",
    "    # Print the results\n",
    "    for n, total in enumerate(sums_of_digits, 1):\n",
    "        print(f\"The sum of digits of {n}! is {total}\")\n",
    "\n",
    "if __name__ == \"__main__\":\n",
    "    main()\n",
    "    "
   ]
  },
  {
   "cell_type": "markdown",
   "id": "68481bff-e0ac-4fff-bdd6-ddf8b159a229",
   "metadata": {},
   "source": [
    "37. Write a program that finds the longest word in a sentence using list comprehension."
   ]
  },
  {
   "cell_type": "code",
   "execution_count": 35,
   "id": "2dbddd2a-5de7-417b-b42a-299ddff47cb5",
   "metadata": {},
   "outputs": [
    {
     "name": "stdin",
     "output_type": "stream",
     "text": [
      "Enter a sentence:  India is a beautiful country\n"
     ]
    },
    {
     "name": "stdout",
     "output_type": "stream",
     "text": [
      "The longest word in the sentence is: beautiful\n"
     ]
    }
   ],
   "source": [
    "def find_longest_word(sentence):\n",
    "    words = sentence.split()\n",
    "    longest_word = max(words, key=len)\n",
    "    return longest_word\n",
    "\n",
    "def main():\n",
    "    # Get user input for the sentence\n",
    "    sentence = input(\"Enter a sentence: \")\n",
    "\n",
    "    # Find the longest word using list comprehension\n",
    "    longest_word = find_longest_word(sentence)\n",
    "\n",
    "    # Print the result\n",
    "    print(f\"The longest word in the sentence is: {longest_word}\")\n",
    "\n",
    "if __name__ == \"__main__\":\n",
    "    main()"
   ]
  },
  {
   "cell_type": "markdown",
   "id": "3d35f583-4d0e-461d-a4ab-ff909649690c",
   "metadata": {},
   "source": [
    "38. Create a program that filters a list of strings to include only those with more than three vowels using list\n",
    "comprehension."
   ]
  },
  {
   "cell_type": "code",
   "execution_count": 37,
   "id": "a040fe1e-f866-4355-9404-1853df232fcc",
   "metadata": {},
   "outputs": [
    {
     "name": "stdout",
     "output_type": "stream",
     "text": [
      "Strings with more than three vowels:\n",
      "['education']\n"
     ]
    }
   ],
   "source": [
    "def count_vowels(word):\n",
    "    vowels = 'aeiouAEIOU'\n",
    "    return sum(1 for char in word if char in vowels)\n",
    "\n",
    "def filter_strings_with_more_than_three_vowels(string_list):\n",
    "    return [string for string in string_list if count_vowels(string) > 3]\n",
    "\n",
    "def main():\n",
    "    # Example list of strings\n",
    "    string_list = [\"apple\", \"banana\", \"orange\", \"hello\", \"Python\", \"education\"]\n",
    "\n",
    "    # Filter strings with more than three vowels using list comprehension\n",
    "    filtered_strings = filter_strings_with_more_than_three_vowels(string_list)\n",
    "\n",
    "    # Print the filtered list\n",
    "    print(\"Strings with more than three vowels:\")\n",
    "    print(filtered_strings)\n",
    "\n",
    "if __name__ == \"__main__\":\n",
    "    main()"
   ]
  },
  {
   "cell_type": "markdown",
   "id": "72f135f3-251f-429d-b2b8-a6e923485c48",
   "metadata": {},
   "source": [
    "39. Develop a program that calculates the sum of the digits of numbers from 1 to 1000 using list\n",
    "comprehension."
   ]
  },
  {
   "cell_type": "code",
   "execution_count": 40,
   "id": "708afc78-e5f1-40e2-8d7e-62f20938efe9",
   "metadata": {},
   "outputs": [
    {
     "name": "stdout",
     "output_type": "stream",
     "text": [
      "The sum of digits of 1 is 1\n",
      "The sum of digits of 2 is 2\n",
      "The sum of digits of 3 is 3\n",
      "The sum of digits of 4 is 4\n",
      "The sum of digits of 5 is 5\n",
      "The sum of digits of 6 is 6\n",
      "The sum of digits of 7 is 7\n",
      "The sum of digits of 8 is 8\n",
      "The sum of digits of 9 is 9\n",
      "The sum of digits of 10 is 1\n",
      "The sum of digits of 11 is 2\n",
      "The sum of digits of 12 is 3\n",
      "The sum of digits of 13 is 4\n",
      "The sum of digits of 14 is 5\n",
      "The sum of digits of 15 is 6\n",
      "The sum of digits of 16 is 7\n",
      "The sum of digits of 17 is 8\n",
      "The sum of digits of 18 is 9\n",
      "The sum of digits of 19 is 10\n",
      "The sum of digits of 20 is 2\n",
      "The sum of digits of 21 is 3\n",
      "The sum of digits of 22 is 4\n",
      "The sum of digits of 23 is 5\n",
      "The sum of digits of 24 is 6\n",
      "The sum of digits of 25 is 7\n",
      "The sum of digits of 26 is 8\n",
      "The sum of digits of 27 is 9\n",
      "The sum of digits of 28 is 10\n",
      "The sum of digits of 29 is 11\n",
      "The sum of digits of 30 is 3\n",
      "The sum of digits of 31 is 4\n",
      "The sum of digits of 32 is 5\n",
      "The sum of digits of 33 is 6\n",
      "The sum of digits of 34 is 7\n",
      "The sum of digits of 35 is 8\n",
      "The sum of digits of 36 is 9\n",
      "The sum of digits of 37 is 10\n",
      "The sum of digits of 38 is 11\n",
      "The sum of digits of 39 is 12\n",
      "The sum of digits of 40 is 4\n",
      "The sum of digits of 41 is 5\n",
      "The sum of digits of 42 is 6\n",
      "The sum of digits of 43 is 7\n",
      "The sum of digits of 44 is 8\n",
      "The sum of digits of 45 is 9\n",
      "The sum of digits of 46 is 10\n",
      "The sum of digits of 47 is 11\n",
      "The sum of digits of 48 is 12\n",
      "The sum of digits of 49 is 13\n",
      "The sum of digits of 50 is 5\n",
      "The sum of digits of 51 is 6\n",
      "The sum of digits of 52 is 7\n",
      "The sum of digits of 53 is 8\n",
      "The sum of digits of 54 is 9\n",
      "The sum of digits of 55 is 10\n",
      "The sum of digits of 56 is 11\n",
      "The sum of digits of 57 is 12\n",
      "The sum of digits of 58 is 13\n",
      "The sum of digits of 59 is 14\n",
      "The sum of digits of 60 is 6\n",
      "The sum of digits of 61 is 7\n",
      "The sum of digits of 62 is 8\n",
      "The sum of digits of 63 is 9\n",
      "The sum of digits of 64 is 10\n",
      "The sum of digits of 65 is 11\n",
      "The sum of digits of 66 is 12\n",
      "The sum of digits of 67 is 13\n",
      "The sum of digits of 68 is 14\n",
      "The sum of digits of 69 is 15\n",
      "The sum of digits of 70 is 7\n",
      "The sum of digits of 71 is 8\n",
      "The sum of digits of 72 is 9\n",
      "The sum of digits of 73 is 10\n",
      "The sum of digits of 74 is 11\n",
      "The sum of digits of 75 is 12\n",
      "The sum of digits of 76 is 13\n",
      "The sum of digits of 77 is 14\n",
      "The sum of digits of 78 is 15\n",
      "The sum of digits of 79 is 16\n",
      "The sum of digits of 80 is 8\n",
      "The sum of digits of 81 is 9\n",
      "The sum of digits of 82 is 10\n",
      "The sum of digits of 83 is 11\n",
      "The sum of digits of 84 is 12\n",
      "The sum of digits of 85 is 13\n",
      "The sum of digits of 86 is 14\n",
      "The sum of digits of 87 is 15\n",
      "The sum of digits of 88 is 16\n",
      "The sum of digits of 89 is 17\n",
      "The sum of digits of 90 is 9\n",
      "The sum of digits of 91 is 10\n",
      "The sum of digits of 92 is 11\n",
      "The sum of digits of 93 is 12\n",
      "The sum of digits of 94 is 13\n",
      "The sum of digits of 95 is 14\n",
      "The sum of digits of 96 is 15\n",
      "The sum of digits of 97 is 16\n",
      "The sum of digits of 98 is 17\n",
      "The sum of digits of 99 is 18\n",
      "The sum of digits of 100 is 1\n",
      "The sum of digits of 101 is 2\n",
      "The sum of digits of 102 is 3\n",
      "The sum of digits of 103 is 4\n",
      "The sum of digits of 104 is 5\n",
      "The sum of digits of 105 is 6\n",
      "The sum of digits of 106 is 7\n",
      "The sum of digits of 107 is 8\n",
      "The sum of digits of 108 is 9\n",
      "The sum of digits of 109 is 10\n",
      "The sum of digits of 110 is 2\n",
      "The sum of digits of 111 is 3\n",
      "The sum of digits of 112 is 4\n",
      "The sum of digits of 113 is 5\n",
      "The sum of digits of 114 is 6\n",
      "The sum of digits of 115 is 7\n",
      "The sum of digits of 116 is 8\n",
      "The sum of digits of 117 is 9\n",
      "The sum of digits of 118 is 10\n",
      "The sum of digits of 119 is 11\n",
      "The sum of digits of 120 is 3\n",
      "The sum of digits of 121 is 4\n",
      "The sum of digits of 122 is 5\n",
      "The sum of digits of 123 is 6\n",
      "The sum of digits of 124 is 7\n",
      "The sum of digits of 125 is 8\n",
      "The sum of digits of 126 is 9\n",
      "The sum of digits of 127 is 10\n",
      "The sum of digits of 128 is 11\n",
      "The sum of digits of 129 is 12\n",
      "The sum of digits of 130 is 4\n",
      "The sum of digits of 131 is 5\n",
      "The sum of digits of 132 is 6\n",
      "The sum of digits of 133 is 7\n",
      "The sum of digits of 134 is 8\n",
      "The sum of digits of 135 is 9\n",
      "The sum of digits of 136 is 10\n",
      "The sum of digits of 137 is 11\n",
      "The sum of digits of 138 is 12\n",
      "The sum of digits of 139 is 13\n",
      "The sum of digits of 140 is 5\n",
      "The sum of digits of 141 is 6\n",
      "The sum of digits of 142 is 7\n",
      "The sum of digits of 143 is 8\n",
      "The sum of digits of 144 is 9\n",
      "The sum of digits of 145 is 10\n",
      "The sum of digits of 146 is 11\n",
      "The sum of digits of 147 is 12\n",
      "The sum of digits of 148 is 13\n",
      "The sum of digits of 149 is 14\n",
      "The sum of digits of 150 is 6\n",
      "The sum of digits of 151 is 7\n",
      "The sum of digits of 152 is 8\n",
      "The sum of digits of 153 is 9\n",
      "The sum of digits of 154 is 10\n",
      "The sum of digits of 155 is 11\n",
      "The sum of digits of 156 is 12\n",
      "The sum of digits of 157 is 13\n",
      "The sum of digits of 158 is 14\n",
      "The sum of digits of 159 is 15\n",
      "The sum of digits of 160 is 7\n",
      "The sum of digits of 161 is 8\n",
      "The sum of digits of 162 is 9\n",
      "The sum of digits of 163 is 10\n",
      "The sum of digits of 164 is 11\n",
      "The sum of digits of 165 is 12\n",
      "The sum of digits of 166 is 13\n",
      "The sum of digits of 167 is 14\n",
      "The sum of digits of 168 is 15\n",
      "The sum of digits of 169 is 16\n",
      "The sum of digits of 170 is 8\n",
      "The sum of digits of 171 is 9\n",
      "The sum of digits of 172 is 10\n",
      "The sum of digits of 173 is 11\n",
      "The sum of digits of 174 is 12\n",
      "The sum of digits of 175 is 13\n",
      "The sum of digits of 176 is 14\n",
      "The sum of digits of 177 is 15\n",
      "The sum of digits of 178 is 16\n",
      "The sum of digits of 179 is 17\n",
      "The sum of digits of 180 is 9\n",
      "The sum of digits of 181 is 10\n",
      "The sum of digits of 182 is 11\n",
      "The sum of digits of 183 is 12\n",
      "The sum of digits of 184 is 13\n",
      "The sum of digits of 185 is 14\n",
      "The sum of digits of 186 is 15\n",
      "The sum of digits of 187 is 16\n",
      "The sum of digits of 188 is 17\n",
      "The sum of digits of 189 is 18\n",
      "The sum of digits of 190 is 10\n",
      "The sum of digits of 191 is 11\n",
      "The sum of digits of 192 is 12\n",
      "The sum of digits of 193 is 13\n",
      "The sum of digits of 194 is 14\n",
      "The sum of digits of 195 is 15\n",
      "The sum of digits of 196 is 16\n",
      "The sum of digits of 197 is 17\n",
      "The sum of digits of 198 is 18\n",
      "The sum of digits of 199 is 19\n",
      "The sum of digits of 200 is 2\n",
      "The sum of digits of 201 is 3\n",
      "The sum of digits of 202 is 4\n",
      "The sum of digits of 203 is 5\n",
      "The sum of digits of 204 is 6\n",
      "The sum of digits of 205 is 7\n",
      "The sum of digits of 206 is 8\n",
      "The sum of digits of 207 is 9\n",
      "The sum of digits of 208 is 10\n",
      "The sum of digits of 209 is 11\n",
      "The sum of digits of 210 is 3\n",
      "The sum of digits of 211 is 4\n",
      "The sum of digits of 212 is 5\n",
      "The sum of digits of 213 is 6\n",
      "The sum of digits of 214 is 7\n",
      "The sum of digits of 215 is 8\n",
      "The sum of digits of 216 is 9\n",
      "The sum of digits of 217 is 10\n",
      "The sum of digits of 218 is 11\n",
      "The sum of digits of 219 is 12\n",
      "The sum of digits of 220 is 4\n",
      "The sum of digits of 221 is 5\n",
      "The sum of digits of 222 is 6\n",
      "The sum of digits of 223 is 7\n",
      "The sum of digits of 224 is 8\n",
      "The sum of digits of 225 is 9\n",
      "The sum of digits of 226 is 10\n",
      "The sum of digits of 227 is 11\n",
      "The sum of digits of 228 is 12\n",
      "The sum of digits of 229 is 13\n",
      "The sum of digits of 230 is 5\n",
      "The sum of digits of 231 is 6\n",
      "The sum of digits of 232 is 7\n",
      "The sum of digits of 233 is 8\n",
      "The sum of digits of 234 is 9\n",
      "The sum of digits of 235 is 10\n",
      "The sum of digits of 236 is 11\n",
      "The sum of digits of 237 is 12\n",
      "The sum of digits of 238 is 13\n",
      "The sum of digits of 239 is 14\n",
      "The sum of digits of 240 is 6\n",
      "The sum of digits of 241 is 7\n",
      "The sum of digits of 242 is 8\n",
      "The sum of digits of 243 is 9\n",
      "The sum of digits of 244 is 10\n",
      "The sum of digits of 245 is 11\n",
      "The sum of digits of 246 is 12\n",
      "The sum of digits of 247 is 13\n",
      "The sum of digits of 248 is 14\n",
      "The sum of digits of 249 is 15\n",
      "The sum of digits of 250 is 7\n",
      "The sum of digits of 251 is 8\n",
      "The sum of digits of 252 is 9\n",
      "The sum of digits of 253 is 10\n",
      "The sum of digits of 254 is 11\n",
      "The sum of digits of 255 is 12\n",
      "The sum of digits of 256 is 13\n",
      "The sum of digits of 257 is 14\n",
      "The sum of digits of 258 is 15\n",
      "The sum of digits of 259 is 16\n",
      "The sum of digits of 260 is 8\n",
      "The sum of digits of 261 is 9\n",
      "The sum of digits of 262 is 10\n",
      "The sum of digits of 263 is 11\n",
      "The sum of digits of 264 is 12\n",
      "The sum of digits of 265 is 13\n",
      "The sum of digits of 266 is 14\n",
      "The sum of digits of 267 is 15\n",
      "The sum of digits of 268 is 16\n",
      "The sum of digits of 269 is 17\n",
      "The sum of digits of 270 is 9\n",
      "The sum of digits of 271 is 10\n",
      "The sum of digits of 272 is 11\n",
      "The sum of digits of 273 is 12\n",
      "The sum of digits of 274 is 13\n",
      "The sum of digits of 275 is 14\n",
      "The sum of digits of 276 is 15\n",
      "The sum of digits of 277 is 16\n",
      "The sum of digits of 278 is 17\n",
      "The sum of digits of 279 is 18\n",
      "The sum of digits of 280 is 10\n",
      "The sum of digits of 281 is 11\n",
      "The sum of digits of 282 is 12\n",
      "The sum of digits of 283 is 13\n",
      "The sum of digits of 284 is 14\n",
      "The sum of digits of 285 is 15\n",
      "The sum of digits of 286 is 16\n",
      "The sum of digits of 287 is 17\n",
      "The sum of digits of 288 is 18\n",
      "The sum of digits of 289 is 19\n",
      "The sum of digits of 290 is 11\n",
      "The sum of digits of 291 is 12\n",
      "The sum of digits of 292 is 13\n",
      "The sum of digits of 293 is 14\n",
      "The sum of digits of 294 is 15\n",
      "The sum of digits of 295 is 16\n",
      "The sum of digits of 296 is 17\n",
      "The sum of digits of 297 is 18\n",
      "The sum of digits of 298 is 19\n",
      "The sum of digits of 299 is 20\n",
      "The sum of digits of 300 is 3\n",
      "The sum of digits of 301 is 4\n",
      "The sum of digits of 302 is 5\n",
      "The sum of digits of 303 is 6\n",
      "The sum of digits of 304 is 7\n",
      "The sum of digits of 305 is 8\n",
      "The sum of digits of 306 is 9\n",
      "The sum of digits of 307 is 10\n",
      "The sum of digits of 308 is 11\n",
      "The sum of digits of 309 is 12\n",
      "The sum of digits of 310 is 4\n",
      "The sum of digits of 311 is 5\n",
      "The sum of digits of 312 is 6\n",
      "The sum of digits of 313 is 7\n",
      "The sum of digits of 314 is 8\n",
      "The sum of digits of 315 is 9\n",
      "The sum of digits of 316 is 10\n",
      "The sum of digits of 317 is 11\n",
      "The sum of digits of 318 is 12\n",
      "The sum of digits of 319 is 13\n",
      "The sum of digits of 320 is 5\n",
      "The sum of digits of 321 is 6\n",
      "The sum of digits of 322 is 7\n",
      "The sum of digits of 323 is 8\n",
      "The sum of digits of 324 is 9\n",
      "The sum of digits of 325 is 10\n",
      "The sum of digits of 326 is 11\n",
      "The sum of digits of 327 is 12\n",
      "The sum of digits of 328 is 13\n",
      "The sum of digits of 329 is 14\n",
      "The sum of digits of 330 is 6\n",
      "The sum of digits of 331 is 7\n",
      "The sum of digits of 332 is 8\n",
      "The sum of digits of 333 is 9\n",
      "The sum of digits of 334 is 10\n",
      "The sum of digits of 335 is 11\n",
      "The sum of digits of 336 is 12\n",
      "The sum of digits of 337 is 13\n",
      "The sum of digits of 338 is 14\n",
      "The sum of digits of 339 is 15\n",
      "The sum of digits of 340 is 7\n",
      "The sum of digits of 341 is 8\n",
      "The sum of digits of 342 is 9\n",
      "The sum of digits of 343 is 10\n",
      "The sum of digits of 344 is 11\n",
      "The sum of digits of 345 is 12\n",
      "The sum of digits of 346 is 13\n",
      "The sum of digits of 347 is 14\n",
      "The sum of digits of 348 is 15\n",
      "The sum of digits of 349 is 16\n",
      "The sum of digits of 350 is 8\n",
      "The sum of digits of 351 is 9\n",
      "The sum of digits of 352 is 10\n",
      "The sum of digits of 353 is 11\n",
      "The sum of digits of 354 is 12\n",
      "The sum of digits of 355 is 13\n",
      "The sum of digits of 356 is 14\n",
      "The sum of digits of 357 is 15\n",
      "The sum of digits of 358 is 16\n",
      "The sum of digits of 359 is 17\n",
      "The sum of digits of 360 is 9\n",
      "The sum of digits of 361 is 10\n",
      "The sum of digits of 362 is 11\n",
      "The sum of digits of 363 is 12\n",
      "The sum of digits of 364 is 13\n",
      "The sum of digits of 365 is 14\n",
      "The sum of digits of 366 is 15\n",
      "The sum of digits of 367 is 16\n",
      "The sum of digits of 368 is 17\n",
      "The sum of digits of 369 is 18\n",
      "The sum of digits of 370 is 10\n",
      "The sum of digits of 371 is 11\n",
      "The sum of digits of 372 is 12\n",
      "The sum of digits of 373 is 13\n",
      "The sum of digits of 374 is 14\n",
      "The sum of digits of 375 is 15\n",
      "The sum of digits of 376 is 16\n",
      "The sum of digits of 377 is 17\n",
      "The sum of digits of 378 is 18\n",
      "The sum of digits of 379 is 19\n",
      "The sum of digits of 380 is 11\n",
      "The sum of digits of 381 is 12\n",
      "The sum of digits of 382 is 13\n",
      "The sum of digits of 383 is 14\n",
      "The sum of digits of 384 is 15\n",
      "The sum of digits of 385 is 16\n",
      "The sum of digits of 386 is 17\n",
      "The sum of digits of 387 is 18\n",
      "The sum of digits of 388 is 19\n",
      "The sum of digits of 389 is 20\n",
      "The sum of digits of 390 is 12\n",
      "The sum of digits of 391 is 13\n",
      "The sum of digits of 392 is 14\n",
      "The sum of digits of 393 is 15\n",
      "The sum of digits of 394 is 16\n",
      "The sum of digits of 395 is 17\n",
      "The sum of digits of 396 is 18\n",
      "The sum of digits of 397 is 19\n",
      "The sum of digits of 398 is 20\n",
      "The sum of digits of 399 is 21\n",
      "The sum of digits of 400 is 4\n",
      "The sum of digits of 401 is 5\n",
      "The sum of digits of 402 is 6\n",
      "The sum of digits of 403 is 7\n",
      "The sum of digits of 404 is 8\n",
      "The sum of digits of 405 is 9\n",
      "The sum of digits of 406 is 10\n",
      "The sum of digits of 407 is 11\n",
      "The sum of digits of 408 is 12\n",
      "The sum of digits of 409 is 13\n",
      "The sum of digits of 410 is 5\n",
      "The sum of digits of 411 is 6\n",
      "The sum of digits of 412 is 7\n",
      "The sum of digits of 413 is 8\n",
      "The sum of digits of 414 is 9\n",
      "The sum of digits of 415 is 10\n",
      "The sum of digits of 416 is 11\n",
      "The sum of digits of 417 is 12\n",
      "The sum of digits of 418 is 13\n",
      "The sum of digits of 419 is 14\n",
      "The sum of digits of 420 is 6\n",
      "The sum of digits of 421 is 7\n",
      "The sum of digits of 422 is 8\n",
      "The sum of digits of 423 is 9\n",
      "The sum of digits of 424 is 10\n",
      "The sum of digits of 425 is 11\n",
      "The sum of digits of 426 is 12\n",
      "The sum of digits of 427 is 13\n",
      "The sum of digits of 428 is 14\n",
      "The sum of digits of 429 is 15\n",
      "The sum of digits of 430 is 7\n",
      "The sum of digits of 431 is 8\n",
      "The sum of digits of 432 is 9\n",
      "The sum of digits of 433 is 10\n",
      "The sum of digits of 434 is 11\n",
      "The sum of digits of 435 is 12\n",
      "The sum of digits of 436 is 13\n",
      "The sum of digits of 437 is 14\n",
      "The sum of digits of 438 is 15\n",
      "The sum of digits of 439 is 16\n",
      "The sum of digits of 440 is 8\n",
      "The sum of digits of 441 is 9\n",
      "The sum of digits of 442 is 10\n",
      "The sum of digits of 443 is 11\n",
      "The sum of digits of 444 is 12\n",
      "The sum of digits of 445 is 13\n",
      "The sum of digits of 446 is 14\n",
      "The sum of digits of 447 is 15\n",
      "The sum of digits of 448 is 16\n",
      "The sum of digits of 449 is 17\n",
      "The sum of digits of 450 is 9\n",
      "The sum of digits of 451 is 10\n",
      "The sum of digits of 452 is 11\n",
      "The sum of digits of 453 is 12\n",
      "The sum of digits of 454 is 13\n",
      "The sum of digits of 455 is 14\n",
      "The sum of digits of 456 is 15\n",
      "The sum of digits of 457 is 16\n",
      "The sum of digits of 458 is 17\n",
      "The sum of digits of 459 is 18\n",
      "The sum of digits of 460 is 10\n",
      "The sum of digits of 461 is 11\n",
      "The sum of digits of 462 is 12\n",
      "The sum of digits of 463 is 13\n",
      "The sum of digits of 464 is 14\n",
      "The sum of digits of 465 is 15\n",
      "The sum of digits of 466 is 16\n",
      "The sum of digits of 467 is 17\n",
      "The sum of digits of 468 is 18\n",
      "The sum of digits of 469 is 19\n",
      "The sum of digits of 470 is 11\n",
      "The sum of digits of 471 is 12\n",
      "The sum of digits of 472 is 13\n",
      "The sum of digits of 473 is 14\n",
      "The sum of digits of 474 is 15\n",
      "The sum of digits of 475 is 16\n",
      "The sum of digits of 476 is 17\n",
      "The sum of digits of 477 is 18\n",
      "The sum of digits of 478 is 19\n",
      "The sum of digits of 479 is 20\n",
      "The sum of digits of 480 is 12\n",
      "The sum of digits of 481 is 13\n",
      "The sum of digits of 482 is 14\n",
      "The sum of digits of 483 is 15\n",
      "The sum of digits of 484 is 16\n",
      "The sum of digits of 485 is 17\n",
      "The sum of digits of 486 is 18\n",
      "The sum of digits of 487 is 19\n",
      "The sum of digits of 488 is 20\n",
      "The sum of digits of 489 is 21\n",
      "The sum of digits of 490 is 13\n",
      "The sum of digits of 491 is 14\n",
      "The sum of digits of 492 is 15\n",
      "The sum of digits of 493 is 16\n",
      "The sum of digits of 494 is 17\n",
      "The sum of digits of 495 is 18\n",
      "The sum of digits of 496 is 19\n",
      "The sum of digits of 497 is 20\n",
      "The sum of digits of 498 is 21\n",
      "The sum of digits of 499 is 22\n",
      "The sum of digits of 500 is 5\n",
      "The sum of digits of 501 is 6\n",
      "The sum of digits of 502 is 7\n",
      "The sum of digits of 503 is 8\n",
      "The sum of digits of 504 is 9\n",
      "The sum of digits of 505 is 10\n",
      "The sum of digits of 506 is 11\n",
      "The sum of digits of 507 is 12\n",
      "The sum of digits of 508 is 13\n",
      "The sum of digits of 509 is 14\n",
      "The sum of digits of 510 is 6\n",
      "The sum of digits of 511 is 7\n",
      "The sum of digits of 512 is 8\n",
      "The sum of digits of 513 is 9\n",
      "The sum of digits of 514 is 10\n",
      "The sum of digits of 515 is 11\n",
      "The sum of digits of 516 is 12\n",
      "The sum of digits of 517 is 13\n",
      "The sum of digits of 518 is 14\n",
      "The sum of digits of 519 is 15\n",
      "The sum of digits of 520 is 7\n",
      "The sum of digits of 521 is 8\n",
      "The sum of digits of 522 is 9\n",
      "The sum of digits of 523 is 10\n",
      "The sum of digits of 524 is 11\n",
      "The sum of digits of 525 is 12\n",
      "The sum of digits of 526 is 13\n",
      "The sum of digits of 527 is 14\n",
      "The sum of digits of 528 is 15\n",
      "The sum of digits of 529 is 16\n",
      "The sum of digits of 530 is 8\n",
      "The sum of digits of 531 is 9\n",
      "The sum of digits of 532 is 10\n",
      "The sum of digits of 533 is 11\n",
      "The sum of digits of 534 is 12\n",
      "The sum of digits of 535 is 13\n",
      "The sum of digits of 536 is 14\n",
      "The sum of digits of 537 is 15\n",
      "The sum of digits of 538 is 16\n",
      "The sum of digits of 539 is 17\n",
      "The sum of digits of 540 is 9\n",
      "The sum of digits of 541 is 10\n",
      "The sum of digits of 542 is 11\n",
      "The sum of digits of 543 is 12\n",
      "The sum of digits of 544 is 13\n",
      "The sum of digits of 545 is 14\n",
      "The sum of digits of 546 is 15\n",
      "The sum of digits of 547 is 16\n",
      "The sum of digits of 548 is 17\n",
      "The sum of digits of 549 is 18\n",
      "The sum of digits of 550 is 10\n",
      "The sum of digits of 551 is 11\n",
      "The sum of digits of 552 is 12\n",
      "The sum of digits of 553 is 13\n",
      "The sum of digits of 554 is 14\n",
      "The sum of digits of 555 is 15\n",
      "The sum of digits of 556 is 16\n",
      "The sum of digits of 557 is 17\n",
      "The sum of digits of 558 is 18\n",
      "The sum of digits of 559 is 19\n",
      "The sum of digits of 560 is 11\n",
      "The sum of digits of 561 is 12\n",
      "The sum of digits of 562 is 13\n",
      "The sum of digits of 563 is 14\n",
      "The sum of digits of 564 is 15\n",
      "The sum of digits of 565 is 16\n",
      "The sum of digits of 566 is 17\n",
      "The sum of digits of 567 is 18\n",
      "The sum of digits of 568 is 19\n",
      "The sum of digits of 569 is 20\n",
      "The sum of digits of 570 is 12\n",
      "The sum of digits of 571 is 13\n",
      "The sum of digits of 572 is 14\n",
      "The sum of digits of 573 is 15\n",
      "The sum of digits of 574 is 16\n",
      "The sum of digits of 575 is 17\n",
      "The sum of digits of 576 is 18\n",
      "The sum of digits of 577 is 19\n",
      "The sum of digits of 578 is 20\n",
      "The sum of digits of 579 is 21\n",
      "The sum of digits of 580 is 13\n",
      "The sum of digits of 581 is 14\n",
      "The sum of digits of 582 is 15\n",
      "The sum of digits of 583 is 16\n",
      "The sum of digits of 584 is 17\n",
      "The sum of digits of 585 is 18\n",
      "The sum of digits of 586 is 19\n",
      "The sum of digits of 587 is 20\n",
      "The sum of digits of 588 is 21\n",
      "The sum of digits of 589 is 22\n",
      "The sum of digits of 590 is 14\n",
      "The sum of digits of 591 is 15\n",
      "The sum of digits of 592 is 16\n",
      "The sum of digits of 593 is 17\n",
      "The sum of digits of 594 is 18\n",
      "The sum of digits of 595 is 19\n",
      "The sum of digits of 596 is 20\n",
      "The sum of digits of 597 is 21\n",
      "The sum of digits of 598 is 22\n",
      "The sum of digits of 599 is 23\n",
      "The sum of digits of 600 is 6\n",
      "The sum of digits of 601 is 7\n",
      "The sum of digits of 602 is 8\n",
      "The sum of digits of 603 is 9\n",
      "The sum of digits of 604 is 10\n",
      "The sum of digits of 605 is 11\n",
      "The sum of digits of 606 is 12\n",
      "The sum of digits of 607 is 13\n",
      "The sum of digits of 608 is 14\n",
      "The sum of digits of 609 is 15\n",
      "The sum of digits of 610 is 7\n",
      "The sum of digits of 611 is 8\n",
      "The sum of digits of 612 is 9\n",
      "The sum of digits of 613 is 10\n",
      "The sum of digits of 614 is 11\n",
      "The sum of digits of 615 is 12\n",
      "The sum of digits of 616 is 13\n",
      "The sum of digits of 617 is 14\n",
      "The sum of digits of 618 is 15\n",
      "The sum of digits of 619 is 16\n",
      "The sum of digits of 620 is 8\n",
      "The sum of digits of 621 is 9\n",
      "The sum of digits of 622 is 10\n",
      "The sum of digits of 623 is 11\n",
      "The sum of digits of 624 is 12\n",
      "The sum of digits of 625 is 13\n",
      "The sum of digits of 626 is 14\n",
      "The sum of digits of 627 is 15\n",
      "The sum of digits of 628 is 16\n",
      "The sum of digits of 629 is 17\n",
      "The sum of digits of 630 is 9\n",
      "The sum of digits of 631 is 10\n",
      "The sum of digits of 632 is 11\n",
      "The sum of digits of 633 is 12\n",
      "The sum of digits of 634 is 13\n",
      "The sum of digits of 635 is 14\n",
      "The sum of digits of 636 is 15\n",
      "The sum of digits of 637 is 16\n",
      "The sum of digits of 638 is 17\n",
      "The sum of digits of 639 is 18\n",
      "The sum of digits of 640 is 10\n",
      "The sum of digits of 641 is 11\n",
      "The sum of digits of 642 is 12\n",
      "The sum of digits of 643 is 13\n",
      "The sum of digits of 644 is 14\n",
      "The sum of digits of 645 is 15\n",
      "The sum of digits of 646 is 16\n",
      "The sum of digits of 647 is 17\n",
      "The sum of digits of 648 is 18\n",
      "The sum of digits of 649 is 19\n",
      "The sum of digits of 650 is 11\n",
      "The sum of digits of 651 is 12\n",
      "The sum of digits of 652 is 13\n",
      "The sum of digits of 653 is 14\n",
      "The sum of digits of 654 is 15\n",
      "The sum of digits of 655 is 16\n",
      "The sum of digits of 656 is 17\n",
      "The sum of digits of 657 is 18\n",
      "The sum of digits of 658 is 19\n",
      "The sum of digits of 659 is 20\n",
      "The sum of digits of 660 is 12\n",
      "The sum of digits of 661 is 13\n",
      "The sum of digits of 662 is 14\n",
      "The sum of digits of 663 is 15\n",
      "The sum of digits of 664 is 16\n",
      "The sum of digits of 665 is 17\n",
      "The sum of digits of 666 is 18\n",
      "The sum of digits of 667 is 19\n",
      "The sum of digits of 668 is 20\n",
      "The sum of digits of 669 is 21\n",
      "The sum of digits of 670 is 13\n",
      "The sum of digits of 671 is 14\n",
      "The sum of digits of 672 is 15\n",
      "The sum of digits of 673 is 16\n",
      "The sum of digits of 674 is 17\n",
      "The sum of digits of 675 is 18\n",
      "The sum of digits of 676 is 19\n",
      "The sum of digits of 677 is 20\n",
      "The sum of digits of 678 is 21\n",
      "The sum of digits of 679 is 22\n",
      "The sum of digits of 680 is 14\n",
      "The sum of digits of 681 is 15\n",
      "The sum of digits of 682 is 16\n",
      "The sum of digits of 683 is 17\n",
      "The sum of digits of 684 is 18\n",
      "The sum of digits of 685 is 19\n",
      "The sum of digits of 686 is 20\n",
      "The sum of digits of 687 is 21\n",
      "The sum of digits of 688 is 22\n",
      "The sum of digits of 689 is 23\n",
      "The sum of digits of 690 is 15\n",
      "The sum of digits of 691 is 16\n",
      "The sum of digits of 692 is 17\n",
      "The sum of digits of 693 is 18\n",
      "The sum of digits of 694 is 19\n",
      "The sum of digits of 695 is 20\n",
      "The sum of digits of 696 is 21\n",
      "The sum of digits of 697 is 22\n",
      "The sum of digits of 698 is 23\n",
      "The sum of digits of 699 is 24\n",
      "The sum of digits of 700 is 7\n",
      "The sum of digits of 701 is 8\n",
      "The sum of digits of 702 is 9\n",
      "The sum of digits of 703 is 10\n",
      "The sum of digits of 704 is 11\n",
      "The sum of digits of 705 is 12\n",
      "The sum of digits of 706 is 13\n",
      "The sum of digits of 707 is 14\n",
      "The sum of digits of 708 is 15\n",
      "The sum of digits of 709 is 16\n",
      "The sum of digits of 710 is 8\n",
      "The sum of digits of 711 is 9\n",
      "The sum of digits of 712 is 10\n",
      "The sum of digits of 713 is 11\n",
      "The sum of digits of 714 is 12\n",
      "The sum of digits of 715 is 13\n",
      "The sum of digits of 716 is 14\n",
      "The sum of digits of 717 is 15\n",
      "The sum of digits of 718 is 16\n",
      "The sum of digits of 719 is 17\n",
      "The sum of digits of 720 is 9\n",
      "The sum of digits of 721 is 10\n",
      "The sum of digits of 722 is 11\n",
      "The sum of digits of 723 is 12\n",
      "The sum of digits of 724 is 13\n",
      "The sum of digits of 725 is 14\n",
      "The sum of digits of 726 is 15\n",
      "The sum of digits of 727 is 16\n",
      "The sum of digits of 728 is 17\n",
      "The sum of digits of 729 is 18\n",
      "The sum of digits of 730 is 10\n",
      "The sum of digits of 731 is 11\n",
      "The sum of digits of 732 is 12\n",
      "The sum of digits of 733 is 13\n",
      "The sum of digits of 734 is 14\n",
      "The sum of digits of 735 is 15\n",
      "The sum of digits of 736 is 16\n",
      "The sum of digits of 737 is 17\n",
      "The sum of digits of 738 is 18\n",
      "The sum of digits of 739 is 19\n",
      "The sum of digits of 740 is 11\n",
      "The sum of digits of 741 is 12\n",
      "The sum of digits of 742 is 13\n",
      "The sum of digits of 743 is 14\n",
      "The sum of digits of 744 is 15\n",
      "The sum of digits of 745 is 16\n",
      "The sum of digits of 746 is 17\n",
      "The sum of digits of 747 is 18\n",
      "The sum of digits of 748 is 19\n",
      "The sum of digits of 749 is 20\n",
      "The sum of digits of 750 is 12\n",
      "The sum of digits of 751 is 13\n",
      "The sum of digits of 752 is 14\n",
      "The sum of digits of 753 is 15\n",
      "The sum of digits of 754 is 16\n",
      "The sum of digits of 755 is 17\n",
      "The sum of digits of 756 is 18\n",
      "The sum of digits of 757 is 19\n",
      "The sum of digits of 758 is 20\n",
      "The sum of digits of 759 is 21\n",
      "The sum of digits of 760 is 13\n",
      "The sum of digits of 761 is 14\n",
      "The sum of digits of 762 is 15\n",
      "The sum of digits of 763 is 16\n",
      "The sum of digits of 764 is 17\n",
      "The sum of digits of 765 is 18\n",
      "The sum of digits of 766 is 19\n",
      "The sum of digits of 767 is 20\n",
      "The sum of digits of 768 is 21\n",
      "The sum of digits of 769 is 22\n",
      "The sum of digits of 770 is 14\n",
      "The sum of digits of 771 is 15\n",
      "The sum of digits of 772 is 16\n",
      "The sum of digits of 773 is 17\n",
      "The sum of digits of 774 is 18\n",
      "The sum of digits of 775 is 19\n",
      "The sum of digits of 776 is 20\n",
      "The sum of digits of 777 is 21\n",
      "The sum of digits of 778 is 22\n",
      "The sum of digits of 779 is 23\n",
      "The sum of digits of 780 is 15\n",
      "The sum of digits of 781 is 16\n",
      "The sum of digits of 782 is 17\n",
      "The sum of digits of 783 is 18\n",
      "The sum of digits of 784 is 19\n",
      "The sum of digits of 785 is 20\n",
      "The sum of digits of 786 is 21\n",
      "The sum of digits of 787 is 22\n",
      "The sum of digits of 788 is 23\n",
      "The sum of digits of 789 is 24\n",
      "The sum of digits of 790 is 16\n",
      "The sum of digits of 791 is 17\n",
      "The sum of digits of 792 is 18\n",
      "The sum of digits of 793 is 19\n",
      "The sum of digits of 794 is 20\n",
      "The sum of digits of 795 is 21\n",
      "The sum of digits of 796 is 22\n",
      "The sum of digits of 797 is 23\n",
      "The sum of digits of 798 is 24\n",
      "The sum of digits of 799 is 25\n",
      "The sum of digits of 800 is 8\n",
      "The sum of digits of 801 is 9\n",
      "The sum of digits of 802 is 10\n",
      "The sum of digits of 803 is 11\n",
      "The sum of digits of 804 is 12\n",
      "The sum of digits of 805 is 13\n",
      "The sum of digits of 806 is 14\n",
      "The sum of digits of 807 is 15\n",
      "The sum of digits of 808 is 16\n",
      "The sum of digits of 809 is 17\n",
      "The sum of digits of 810 is 9\n",
      "The sum of digits of 811 is 10\n",
      "The sum of digits of 812 is 11\n",
      "The sum of digits of 813 is 12\n",
      "The sum of digits of 814 is 13\n",
      "The sum of digits of 815 is 14\n",
      "The sum of digits of 816 is 15\n",
      "The sum of digits of 817 is 16\n",
      "The sum of digits of 818 is 17\n",
      "The sum of digits of 819 is 18\n",
      "The sum of digits of 820 is 10\n",
      "The sum of digits of 821 is 11\n",
      "The sum of digits of 822 is 12\n",
      "The sum of digits of 823 is 13\n",
      "The sum of digits of 824 is 14\n",
      "The sum of digits of 825 is 15\n",
      "The sum of digits of 826 is 16\n",
      "The sum of digits of 827 is 17\n",
      "The sum of digits of 828 is 18\n",
      "The sum of digits of 829 is 19\n",
      "The sum of digits of 830 is 11\n",
      "The sum of digits of 831 is 12\n",
      "The sum of digits of 832 is 13\n",
      "The sum of digits of 833 is 14\n",
      "The sum of digits of 834 is 15\n",
      "The sum of digits of 835 is 16\n",
      "The sum of digits of 836 is 17\n",
      "The sum of digits of 837 is 18\n",
      "The sum of digits of 838 is 19\n",
      "The sum of digits of 839 is 20\n",
      "The sum of digits of 840 is 12\n",
      "The sum of digits of 841 is 13\n",
      "The sum of digits of 842 is 14\n",
      "The sum of digits of 843 is 15\n",
      "The sum of digits of 844 is 16\n",
      "The sum of digits of 845 is 17\n",
      "The sum of digits of 846 is 18\n",
      "The sum of digits of 847 is 19\n",
      "The sum of digits of 848 is 20\n",
      "The sum of digits of 849 is 21\n",
      "The sum of digits of 850 is 13\n",
      "The sum of digits of 851 is 14\n",
      "The sum of digits of 852 is 15\n",
      "The sum of digits of 853 is 16\n",
      "The sum of digits of 854 is 17\n",
      "The sum of digits of 855 is 18\n",
      "The sum of digits of 856 is 19\n",
      "The sum of digits of 857 is 20\n",
      "The sum of digits of 858 is 21\n",
      "The sum of digits of 859 is 22\n",
      "The sum of digits of 860 is 14\n",
      "The sum of digits of 861 is 15\n",
      "The sum of digits of 862 is 16\n",
      "The sum of digits of 863 is 17\n",
      "The sum of digits of 864 is 18\n",
      "The sum of digits of 865 is 19\n",
      "The sum of digits of 866 is 20\n",
      "The sum of digits of 867 is 21\n",
      "The sum of digits of 868 is 22\n",
      "The sum of digits of 869 is 23\n",
      "The sum of digits of 870 is 15\n",
      "The sum of digits of 871 is 16\n",
      "The sum of digits of 872 is 17\n",
      "The sum of digits of 873 is 18\n",
      "The sum of digits of 874 is 19\n",
      "The sum of digits of 875 is 20\n",
      "The sum of digits of 876 is 21\n",
      "The sum of digits of 877 is 22\n",
      "The sum of digits of 878 is 23\n",
      "The sum of digits of 879 is 24\n",
      "The sum of digits of 880 is 16\n",
      "The sum of digits of 881 is 17\n",
      "The sum of digits of 882 is 18\n",
      "The sum of digits of 883 is 19\n",
      "The sum of digits of 884 is 20\n",
      "The sum of digits of 885 is 21\n",
      "The sum of digits of 886 is 22\n",
      "The sum of digits of 887 is 23\n",
      "The sum of digits of 888 is 24\n",
      "The sum of digits of 889 is 25\n",
      "The sum of digits of 890 is 17\n",
      "The sum of digits of 891 is 18\n",
      "The sum of digits of 892 is 19\n",
      "The sum of digits of 893 is 20\n",
      "The sum of digits of 894 is 21\n",
      "The sum of digits of 895 is 22\n",
      "The sum of digits of 896 is 23\n",
      "The sum of digits of 897 is 24\n",
      "The sum of digits of 898 is 25\n",
      "The sum of digits of 899 is 26\n",
      "The sum of digits of 900 is 9\n",
      "The sum of digits of 901 is 10\n",
      "The sum of digits of 902 is 11\n",
      "The sum of digits of 903 is 12\n",
      "The sum of digits of 904 is 13\n",
      "The sum of digits of 905 is 14\n",
      "The sum of digits of 906 is 15\n",
      "The sum of digits of 907 is 16\n",
      "The sum of digits of 908 is 17\n",
      "The sum of digits of 909 is 18\n",
      "The sum of digits of 910 is 10\n",
      "The sum of digits of 911 is 11\n",
      "The sum of digits of 912 is 12\n",
      "The sum of digits of 913 is 13\n",
      "The sum of digits of 914 is 14\n",
      "The sum of digits of 915 is 15\n",
      "The sum of digits of 916 is 16\n",
      "The sum of digits of 917 is 17\n",
      "The sum of digits of 918 is 18\n",
      "The sum of digits of 919 is 19\n",
      "The sum of digits of 920 is 11\n",
      "The sum of digits of 921 is 12\n",
      "The sum of digits of 922 is 13\n",
      "The sum of digits of 923 is 14\n",
      "The sum of digits of 924 is 15\n",
      "The sum of digits of 925 is 16\n",
      "The sum of digits of 926 is 17\n",
      "The sum of digits of 927 is 18\n",
      "The sum of digits of 928 is 19\n",
      "The sum of digits of 929 is 20\n",
      "The sum of digits of 930 is 12\n",
      "The sum of digits of 931 is 13\n",
      "The sum of digits of 932 is 14\n",
      "The sum of digits of 933 is 15\n",
      "The sum of digits of 934 is 16\n",
      "The sum of digits of 935 is 17\n",
      "The sum of digits of 936 is 18\n",
      "The sum of digits of 937 is 19\n",
      "The sum of digits of 938 is 20\n",
      "The sum of digits of 939 is 21\n",
      "The sum of digits of 940 is 13\n",
      "The sum of digits of 941 is 14\n",
      "The sum of digits of 942 is 15\n",
      "The sum of digits of 943 is 16\n",
      "The sum of digits of 944 is 17\n",
      "The sum of digits of 945 is 18\n",
      "The sum of digits of 946 is 19\n",
      "The sum of digits of 947 is 20\n",
      "The sum of digits of 948 is 21\n",
      "The sum of digits of 949 is 22\n",
      "The sum of digits of 950 is 14\n",
      "The sum of digits of 951 is 15\n",
      "The sum of digits of 952 is 16\n",
      "The sum of digits of 953 is 17\n",
      "The sum of digits of 954 is 18\n",
      "The sum of digits of 955 is 19\n",
      "The sum of digits of 956 is 20\n",
      "The sum of digits of 957 is 21\n",
      "The sum of digits of 958 is 22\n",
      "The sum of digits of 959 is 23\n",
      "The sum of digits of 960 is 15\n",
      "The sum of digits of 961 is 16\n",
      "The sum of digits of 962 is 17\n",
      "The sum of digits of 963 is 18\n",
      "The sum of digits of 964 is 19\n",
      "The sum of digits of 965 is 20\n",
      "The sum of digits of 966 is 21\n",
      "The sum of digits of 967 is 22\n",
      "The sum of digits of 968 is 23\n",
      "The sum of digits of 969 is 24\n",
      "The sum of digits of 970 is 16\n",
      "The sum of digits of 971 is 17\n",
      "The sum of digits of 972 is 18\n",
      "The sum of digits of 973 is 19\n",
      "The sum of digits of 974 is 20\n",
      "The sum of digits of 975 is 21\n",
      "The sum of digits of 976 is 22\n",
      "The sum of digits of 977 is 23\n",
      "The sum of digits of 978 is 24\n",
      "The sum of digits of 979 is 25\n",
      "The sum of digits of 980 is 17\n",
      "The sum of digits of 981 is 18\n",
      "The sum of digits of 982 is 19\n",
      "The sum of digits of 983 is 20\n",
      "The sum of digits of 984 is 21\n",
      "The sum of digits of 985 is 22\n",
      "The sum of digits of 986 is 23\n",
      "The sum of digits of 987 is 24\n",
      "The sum of digits of 988 is 25\n",
      "The sum of digits of 989 is 26\n",
      "The sum of digits of 990 is 18\n",
      "The sum of digits of 991 is 19\n",
      "The sum of digits of 992 is 20\n",
      "The sum of digits of 993 is 21\n",
      "The sum of digits of 994 is 22\n",
      "The sum of digits of 995 is 23\n",
      "The sum of digits of 996 is 24\n",
      "The sum of digits of 997 is 25\n",
      "The sum of digits of 998 is 26\n",
      "The sum of digits of 999 is 27\n",
      "The sum of digits of 1000 is 1\n"
     ]
    }
   ],
   "source": [
    "def sum_of_digits(n):\n",
    "    return sum(int(digit) for digit in str(n))\n",
    "\n",
    "def main():\n",
    "    # Calculate the sum of digits for numbers from 1 to 1000\n",
    "    sums_of_digits = [sum_of_digits(n) for n in range(1, 1001)]\n",
    "\n",
    "    # Print the results\n",
    "    for i, total in enumerate(sums_of_digits, 1):\n",
    "        print(f\"The sum of digits of {i} is {total}\")\n",
    "\n",
    "if __name__ == \"__main__\":\n",
    "    main()"
   ]
  },
  {
   "cell_type": "markdown",
   "id": "0a15a719-9b82-4208-89c4-9013a7e022bc",
   "metadata": {},
   "source": [
    "40. Write a program that generates a list of prime palindromic numbers using list comprehension."
   ]
  },
  {
   "cell_type": "code",
   "execution_count": 41,
   "id": "111d533e-3cbf-4485-9c4b-3199cd6c59db",
   "metadata": {},
   "outputs": [
    {
     "name": "stdout",
     "output_type": "stream",
     "text": [
      "Prime Palindromic Numbers:\n",
      "[11, 101, 131, 151, 181, 191, 313, 353, 373, 383, 727, 757, 787, 797, 919, 929]\n"
     ]
    }
   ],
   "source": [
    "def is_prime(n):\n",
    "    if n < 2:\n",
    "        return False\n",
    "    for i in range(2, int(n**0.5) + 1):\n",
    "        if n % i == 0:\n",
    "            return False\n",
    "    return True\n",
    "\n",
    "def generate_palindromes():\n",
    "    return [str(i) for i in range(10, 1000) if str(i) == str(i)[::-1]]\n",
    "\n",
    "def main():\n",
    "    # Generate a list of prime palindromic numbers using list comprehension\n",
    "    prime_palindromes = [int(p) for p in generate_palindromes() if is_prime(int(p))]\n",
    "\n",
    "    # Print the list of prime palindromes\n",
    "    print(\"Prime Palindromic Numbers:\")\n",
    "    print(prime_palindromes)\n",
    "\n",
    "if __name__ == \"__main__\":\n",
    "    main()"
   ]
  }
 ],
 "metadata": {
  "kernelspec": {
   "display_name": "Python 3 (ipykernel)",
   "language": "python",
   "name": "python3"
  },
  "language_info": {
   "codemirror_mode": {
    "name": "ipython",
    "version": 3
   },
   "file_extension": ".py",
   "mimetype": "text/x-python",
   "name": "python",
   "nbconvert_exporter": "python",
   "pygments_lexer": "ipython3",
   "version": "3.10.8"
  }
 },
 "nbformat": 4,
 "nbformat_minor": 5
}
