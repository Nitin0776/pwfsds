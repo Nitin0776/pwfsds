{
 "cells": [
  {
   "cell_type": "markdown",
   "id": "5e841936-707b-4dcd-b6d4-fea01efd6984",
   "metadata": {},
   "source": [
    "Python Based Variables"
   ]
  },
  {
   "cell_type": "markdown",
   "id": "4d1c1cd8-8906-426d-9521-83a513868915",
   "metadata": {},
   "source": [
    "1. Declare two variables, `x` and `y`, and assign them integer values. Swap the values of these variables without using any temporary variable."
   ]
  },
  {
   "cell_type": "code",
   "execution_count": 6,
   "id": "464eb359-d951-4aa8-98cb-468fcbc1a612",
   "metadata": {},
   "outputs": [
    {
     "name": "stdout",
     "output_type": "stream",
     "text": [
      "After Swapping\n",
      "x: 10\n",
      "y: 5\n"
     ]
    }
   ],
   "source": [
    "x = 5\n",
    "y = 10\n",
    "\n",
    "x = x+y\n",
    "y = x-y\n",
    "x = x-y\n",
    "\n",
    "print('After Swapping')\n",
    "print ('x:',x)\n",
    "print('y:' ,y)"
   ]
  },
  {
   "cell_type": "markdown",
   "id": "8eab71b4-1c6e-4420-b8f5-9676d3c27dac",
   "metadata": {},
   "source": [
    "2. Create a program that calculates the area of a rectangle. Take the length and\n",
    "width as inputs from the user and store them in variables. Calculate and\n",
    "display the area."
   ]
  },
  {
   "cell_type": "code",
   "execution_count": 22,
   "id": "e9cce759-95e3-4260-bea9-c1280f6fea64",
   "metadata": {},
   "outputs": [
    {
     "name": "stdin",
     "output_type": "stream",
     "text": [
      "Length of Recatangle in cm : 35\n",
      "Width of Rectangle in cm: 36\n"
     ]
    },
    {
     "name": "stdout",
     "output_type": "stream",
     "text": [
      "Area of rectangle : 1260 square cm\n"
     ]
    }
   ],
   "source": [
    "#Taking input  from the user for the Length and Width of the Rectangle\n",
    "Length = int(input('Length of Recatangle in cm :'))\n",
    "Width = int(input('Width of Rectangle in cm:',))\n",
    "\n",
    "#Calculating the area of Rectangle\n",
    "Area = Length*Width\n",
    "\n",
    "#Displaying the calculated Area\n",
    "print('Area of rectangle :',Area,'square cm')"
   ]
  },
  {
   "cell_type": "markdown",
   "id": "273949bf-294f-47c2-a767-a5ad7edaaee8",
   "metadata": {},
   "source": [
    "3. Write a Python program that converts temperatures from Celsius to\n",
    "Fahrenheit. Take the temperature in Celsius as input, store it in a variable,\n",
    "convert it to Fahrenheit, and display the result."
   ]
  },
  {
   "cell_type": "code",
   "execution_count": 25,
   "id": "672578eb-c8e0-47c5-9f00-012d53d09609",
   "metadata": {},
   "outputs": [
    {
     "name": "stdin",
     "output_type": "stream",
     "text": [
      "Enter Tempurature in celcius : 32\n"
     ]
    },
    {
     "name": "stdout",
     "output_type": "stream",
     "text": [
      "Tempurature in Fahrenheit : 89.6\n"
     ]
    }
   ],
   "source": [
    "#Taking the input from usee for the temperature in celcius\n",
    "\n",
    "Celcius = float(input('Enter Tempurature in celcius :'))\n",
    "\n",
    "# Converting Tempurature from Celcius into Fahrenheit\n",
    "\n",
    "Fahrenheit = (Celcius*9/5)+32\n",
    "\n",
    "#Displaying the Tempurature in Fahrenheit\n",
    "print('Tempurature in Fahrenheit :', Fahrenheit)\n"
   ]
  },
  {
   "cell_type": "markdown",
   "id": "718aca04-60b3-4961-b2f1-451d1054a802",
   "metadata": {},
   "source": [
    "String Based Questions\n"
   ]
  },
  {
   "cell_type": "markdown",
   "id": "33bab2ef-9c7c-490b-8781-92dd25ffebae",
   "metadata": {},
   "source": [
    "1. Write a Python program that takes a string as input and prints the length of\n",
    "the string."
   ]
  },
  {
   "cell_type": "code",
   "execution_count": 29,
   "id": "ee235292-af68-4f81-9c7e-dfabe3314d1f",
   "metadata": {},
   "outputs": [
    {
     "name": "stdin",
     "output_type": "stream",
     "text": [
      "Enter the string : I love my country\n"
     ]
    },
    {
     "name": "stdout",
     "output_type": "stream",
     "text": [
      "Length of the string : 17\n"
     ]
    }
   ],
   "source": [
    "#Taking input from user as a String\n",
    "\n",
    "A=input('Enter the string :')\n",
    "\n",
    "#Calculating the length of the String\n",
    "Length = len(A)\n",
    "\n",
    "#Displaying the lemgth of the String\n",
    "print('Length of the string :', Length)"
   ]
  },
  {
   "cell_type": "markdown",
   "id": "710f18e6-d90c-4327-90b3-c28015fc7493",
   "metadata": {},
   "source": [
    "2. Create a program that takes a sentence from the user and counts the number\n",
    "of vowels (a, e, i, o, u) in the string."
   ]
  },
  {
   "cell_type": "code",
   "execution_count": 52,
   "id": "381fb8d6-0ad5-4b77-a47f-290727308b4d",
   "metadata": {},
   "outputs": [
    {
     "name": "stdin",
     "output_type": "stream",
     "text": [
      "Enter the sentence: India is a beautiful country\n"
     ]
    },
    {
     "name": "stdout",
     "output_type": "stream",
     "text": [
      "Number of vowels in the sentence : 12\n"
     ]
    }
   ],
   "source": [
    "#Taking input from the user as a Sentence\n",
    "\n",
    "A = input('Enter the sentence:')\n",
    "\n",
    "#Converting the sentence into lower case \n",
    "\n",
    "A= A.lower()\n",
    "\n",
    "# Initializing a variable to count vowels\n",
    "vowel_count = 0\n",
    "\n",
    "# Loop through each character in the sentence\n",
    "for char in A:\n",
    "    if char in \"aeiou\":\n",
    "        vowel_count += 1\n",
    "        \n",
    "#Displaying the count of vowels\n",
    "\n",
    "print('Number of vowels in the sentence :' , vowel_count)        \n"
   ]
  },
  {
   "cell_type": "markdown",
   "id": "d246d01e-8dc4-4e57-baa5-fc9b641fdb0a",
   "metadata": {},
   "source": [
    "3. Given a string, reverse the order of characters using string slicing and print\n",
    "the reversed string."
   ]
  },
  {
   "cell_type": "code",
   "execution_count": 53,
   "id": "f368de8c-8f4b-420a-8890-f9a70a8d88fa",
   "metadata": {},
   "outputs": [
    {
     "name": "stdin",
     "output_type": "stream",
     "text": [
      "Enter the string: Data Science\n"
     ]
    },
    {
     "name": "stdout",
     "output_type": "stream",
     "text": [
      "Reversed string is : ecneicS ataD\n"
     ]
    }
   ],
   "source": [
    "#Taking input as a string from the user\n",
    "A = input('Enter the string:')\n",
    "\n",
    "#Reversing the string using String Slicing\n",
    "Reversed_String = A[::-1]\n",
    "\n",
    "#Displaying the reversed String\n",
    "print('Reversed string is :', Reversed_String)"
   ]
  },
  {
   "cell_type": "markdown",
   "id": "d8ea7379-6a0b-42c0-aacb-ae9e6aec5035",
   "metadata": {},
   "source": [
    "4. Write a program that takes a string as input and checks if it is a palindrome\n",
    "(reads the same forwards and backwards)."
   ]
  },
  {
   "cell_type": "code",
   "execution_count": 54,
   "id": "da52d81e-300a-47b3-8e05-2f7d6934f6f3",
   "metadata": {},
   "outputs": [
    {
     "name": "stdin",
     "output_type": "stream",
     "text": [
      "Enter the string: Nitin\n"
     ]
    },
    {
     "name": "stdout",
     "output_type": "stream",
     "text": [
      "The input string is a palindrome.\n"
     ]
    }
   ],
   "source": [
    "#Taking input as a string from the user\n",
    "A = input('Enter the string:')\n",
    "\n",
    "#Removing spaces from the string and converting it to lower case\n",
    "B = A.replace(' ','').lower()\n",
    "\n",
    "#Reversing the coverted String\n",
    "\n",
    "Reversed_String = B[::-1]\n",
    "\n",
    "# Displaying if the string is a Palindrome or not\n",
    "if B == Reversed_String:\n",
    "    print(\"The input string is a palindrome.\")\n",
    "else:\n",
    "    print(\"The input string is not a palindrome.\")\n"
   ]
  },
  {
   "cell_type": "markdown",
   "id": "ef943aba-428e-4bb2-94ba-cc1cb4379459",
   "metadata": {},
   "source": [
    "5.Write a program that takes a string as input and checks if it is a palindrome (reads the same forwards and backwards)."
   ]
  },
  {
   "cell_type": "code",
   "execution_count": 50,
   "id": "816e52b7-6f8e-4110-9afc-be9278b10b3a",
   "metadata": {},
   "outputs": [
    {
     "name": "stdin",
     "output_type": "stream",
     "text": [
      "Enter the string : India is my country\n"
     ]
    },
    {
     "name": "stdout",
     "output_type": "stream",
     "text": [
      "String without spaces : Indiaismycountry\n"
     ]
    }
   ],
   "source": [
    "#Taking input from user as a string\n",
    "A = input('Enter the string :')\n",
    "\n",
    "#Removing spaces from the string\n",
    "Modified_string = A.replace(' ','')\n",
    "\n",
    "#Dispaying the string without spaces\n",
    "print('String without spaces :',Modified_string)"
   ]
  },
  {
   "cell_type": "code",
   "execution_count": null,
   "id": "0efe730c-3728-4b88-9aae-358a56dbce24",
   "metadata": {},
   "outputs": [],
   "source": []
  }
 ],
 "metadata": {
  "kernelspec": {
   "display_name": "Python 3 (ipykernel)",
   "language": "python",
   "name": "python3"
  },
  "language_info": {
   "codemirror_mode": {
    "name": "ipython",
    "version": 3
   },
   "file_extension": ".py",
   "mimetype": "text/x-python",
   "name": "python",
   "nbconvert_exporter": "python",
   "pygments_lexer": "ipython3",
   "version": "3.10.8"
  }
 },
 "nbformat": 4,
 "nbformat_minor": 5
}
