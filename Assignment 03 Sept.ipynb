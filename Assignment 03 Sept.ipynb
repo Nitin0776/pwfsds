{
 "cells": [
  {
   "cell_type": "markdown",
   "id": "d9a93219-07a8-4f0c-b278-13b268b46a2d",
   "metadata": {},
   "source": [
    "Basic If-Else Statements:\n",
    "1. Write a Python program to check if a given number is positive or negative."
   ]
  },
  {
   "cell_type": "code",
   "execution_count": 4,
   "id": "612da095-6b7a-4d74-8182-ac03d0fbb894",
   "metadata": {},
   "outputs": [
    {
     "name": "stdin",
     "output_type": "stream",
     "text": [
      "Enter a number:  35\n"
     ]
    },
    {
     "name": "stdout",
     "output_type": "stream",
     "text": [
      "35.0 is positive\n"
     ]
    }
   ],
   "source": [
    "def check_positive_negative(number):\n",
    "    if number > 0:\n",
    "        print(f\"{number} is positive\")\n",
    "    elif number < 0:\n",
    "        print(f\"{number} is negative\")\n",
    "    else:\n",
    "        print(f\"{number} is zero\")\n",
    "\n",
    "# Taking input from the user\n",
    "user_input = float(input(\"Enter a number: \"))\n",
    "\n",
    "# Calling the function to check if the number is positive or negative\n",
    "check_positive_negative(user_input)"
   ]
  },
  {
   "cell_type": "markdown",
   "id": "414252db-1beb-4375-a3f3-37936b663d8a",
   "metadata": {},
   "source": [
    "2. Create a program that determines if a person is eligible to vote based on their age."
   ]
  },
  {
   "cell_type": "code",
   "execution_count": 7,
   "id": "10a40cc7-2bd8-4b06-9cb8-19367e91d291",
   "metadata": {},
   "outputs": [
    {
     "name": "stdin",
     "output_type": "stream",
     "text": [
      "Enter your age:  23\n"
     ]
    },
    {
     "name": "stdout",
     "output_type": "stream",
     "text": [
      "You are eligible to vote!\n"
     ]
    }
   ],
   "source": [
    "def check_voting_eligibility(age):\n",
    "    if age >= 18:\n",
    "        print(f\"You are eligible to vote!\")\n",
    "    else:\n",
    "        print(f\"You are not eligible to vote. You must be at least 18 years old.\")\n",
    "\n",
    "# Taking input from the user\n",
    "user_age = int(input(\"Enter your age: \"))\n",
    "\n",
    "# Calling the function to check if the person is eligible to vote\n",
    "check_voting_eligibility(user_age)\n"
   ]
  },
  {
   "cell_type": "markdown",
   "id": "47812fc5-3e65-419a-9540-218033b806e4",
   "metadata": {},
   "source": [
    "3. Develop a program to find the maximum of two numbers using if-else statements."
   ]
  },
  {
   "cell_type": "code",
   "execution_count": 9,
   "id": "b1347000-c292-47e7-bddc-9a5c1dbf9380",
   "metadata": {},
   "outputs": [
    {
     "name": "stdin",
     "output_type": "stream",
     "text": [
      "Enter the first number:  25\n",
      "Enter the second number:  36\n"
     ]
    },
    {
     "name": "stdout",
     "output_type": "stream",
     "text": [
      "The maximum of 25.0 and 36.0 is: 36.0\n"
     ]
    }
   ],
   "source": [
    "def find_max(num1, num2):\n",
    "    if num1 > num2:\n",
    "        max_num = num1\n",
    "    else:\n",
    "        max_num = num2\n",
    "    return max_num\n",
    "\n",
    "# Taking input from the user\n",
    "user_input1 = float(input(\"Enter the first number: \"))\n",
    "user_input2 = float(input(\"Enter the second number: \"))\n",
    "\n",
    "# Calling the function to find the maximum\n",
    "result = find_max(user_input1, user_input2)\n",
    "\n",
    "# Printing the maximum number\n",
    "print(f\"The maximum of {user_input1} and {user_input2} is: {result}\")"
   ]
  },
  {
   "cell_type": "markdown",
   "id": "490f5083-4baf-4647-8333-3f16909a146a",
   "metadata": {},
   "source": [
    "4. Write a Python script to classify a given year as a leap year or not."
   ]
  },
  {
   "cell_type": "code",
   "execution_count": 11,
   "id": "2dbf9c79-72a6-4ec0-a7f2-48ad02ae4316",
   "metadata": {},
   "outputs": [
    {
     "name": "stdin",
     "output_type": "stream",
     "text": [
      "Enter a year:  2000\n"
     ]
    },
    {
     "name": "stdout",
     "output_type": "stream",
     "text": [
      "2000 is a leap year.\n"
     ]
    }
   ],
   "source": [
    "def is_leap_year(year):\n",
    "    if (year % 4 == 0 and year % 100 != 0) or (year % 400 == 0):\n",
    "        return True\n",
    "    else:\n",
    "        return False\n",
    "\n",
    "# Taking input from the user\n",
    "user_year = int(input(\"Enter a year: \"))\n",
    "\n",
    "# Calling the function to check if it's a leap year\n",
    "if is_leap_year(user_year):\n",
    "    print(f\"{user_year} is a leap year.\")\n",
    "else:\n",
    "    print(f\"{user_year} is not a leap year.\")"
   ]
  },
  {
   "cell_type": "markdown",
   "id": "4f1f239a-d805-46da-8a49-37f6db88aafa",
   "metadata": {},
   "source": [
    "5. Create a program that checks whether a character is a vowel or a consonant."
   ]
  },
  {
   "cell_type": "code",
   "execution_count": 14,
   "id": "7506e7b1-588f-492d-8978-16e64e72f1d2",
   "metadata": {},
   "outputs": [
    {
     "name": "stdin",
     "output_type": "stream",
     "text": [
      "Enter a character:  E\n"
     ]
    },
    {
     "name": "stdout",
     "output_type": "stream",
     "text": [
      "E is a vowel.\n"
     ]
    }
   ],
   "source": [
    "def check_vowel_or_consonant(char):\n",
    "    vowels = \"aeiouAEIOU\"\n",
    "    if char.isalpha():\n",
    "        if char in vowels:\n",
    "            print(f\"{char} is a vowel.\")\n",
    "        else:\n",
    "            print(f\"{char} is a consonant.\")\n",
    "    else:\n",
    "        print(f\"{char} is not a valid alphabet.\")\n",
    "\n",
    "# Taking input from the user\n",
    "user_char = input(\"Enter a character: \")\n",
    "\n",
    "# Calling the function to check if it's a vowel or a consonant\n",
    "check_vowel_or_consonant(user_char)"
   ]
  },
  {
   "cell_type": "markdown",
   "id": "75f7b672-3545-40fc-9a71-12d52e6f3cf4",
   "metadata": {},
   "source": [
    "6. Implement a program to determine whether a given number is even or odd."
   ]
  },
  {
   "cell_type": "code",
   "execution_count": 16,
   "id": "fbf0b1de-0ed5-4abf-8d20-19c4569add3c",
   "metadata": {},
   "outputs": [
    {
     "name": "stdin",
     "output_type": "stream",
     "text": [
      "Enter a number:  25\n"
     ]
    },
    {
     "name": "stdout",
     "output_type": "stream",
     "text": [
      "25 is odd.\n"
     ]
    }
   ],
   "source": [
    "def check_even_odd(number):\n",
    "    if number % 2 == 0:\n",
    "        print(f\"{number} is even.\")\n",
    "    else:\n",
    "        print(f\"{number} is odd.\")\n",
    "\n",
    "# Taking input from the user\n",
    "user_number = int(input(\"Enter a number: \"))\n",
    "\n",
    "# Calling the function to check if it's even or odd\n",
    "check_even_odd(user_number)"
   ]
  },
  {
   "cell_type": "markdown",
   "id": "328961f8-5f1e-4bf3-9ca1-09217db9694f",
   "metadata": {},
   "source": [
    "7. Write a Python function to calculate the absolute value of a number without using the `abs()` function."
   ]
  },
  {
   "cell_type": "code",
   "execution_count": 18,
   "id": "4f04d7f2-db1e-4421-bdc1-ef054c3396e2",
   "metadata": {},
   "outputs": [
    {
     "name": "stdout",
     "output_type": "stream",
     "text": [
      "Absolute value: 10\n"
     ]
    }
   ],
   "source": [
    "def absolute_value(number):\n",
    "    if number < 0:\n",
    "        return -number\n",
    "    else:\n",
    "        return number\n",
    "\n",
    "# Example usage\n",
    "result = absolute_value(-10)\n",
    "print(\"Absolute value:\", result)"
   ]
  },
  {
   "cell_type": "markdown",
   "id": "8ed6ee7d-de1d-4e8c-8194-922751bf7ce6",
   "metadata": {},
   "source": [
    "8. Develop a program that determines the largest of three given numbers using if-else statements."
   ]
  },
  {
   "cell_type": "code",
   "execution_count": 21,
   "id": "4b0188b3-c0c9-4882-9728-1014ade7a9bf",
   "metadata": {},
   "outputs": [
    {
     "name": "stdin",
     "output_type": "stream",
     "text": [
      "Enter the first number:  26\n",
      "Enter the second number:  31\n",
      "Enter the third number:  33\n"
     ]
    },
    {
     "name": "stdout",
     "output_type": "stream",
     "text": [
      "The largest number among 26.0, 31.0, and 33.0 is: 33.0\n"
     ]
    }
   ],
   "source": [
    "def find_largest(num1, num2, num3):\n",
    "    if num1 >= num2 and num1 >= num3:\n",
    "        return num1\n",
    "    elif num2 >= num1 and num2 >= num3:\n",
    "        return num2\n",
    "    else:\n",
    "        return num3\n",
    "\n",
    "# Taking input from the user\n",
    "user_input1 = float(input(\"Enter the first number: \"))\n",
    "user_input2 = float(input(\"Enter the second number: \"))\n",
    "user_input3 = float(input(\"Enter the third number: \"))\n",
    "\n",
    "# Calling the function to find the largest number\n",
    "result = find_largest(user_input1, user_input2, user_input3)\n",
    "\n",
    "# Printing the largest number\n",
    "print(f\"The largest number among {user_input1}, {user_input2}, and {user_input3} is: {result}\")"
   ]
  },
  {
   "cell_type": "markdown",
   "id": "2cd013b2-41f9-43a6-8b28-c372efbd05fa",
   "metadata": {},
   "source": [
    "9. Create a program that checks if a given string is a palindrome."
   ]
  },
  {
   "cell_type": "code",
   "execution_count": 23,
   "id": "d70f795a-4f87-4fca-8610-e6d95ff88e4a",
   "metadata": {},
   "outputs": [
    {
     "name": "stdin",
     "output_type": "stream",
     "text": [
      "Enter a string:  I love my country\n"
     ]
    },
    {
     "name": "stdout",
     "output_type": "stream",
     "text": [
      "'I love my country' is not a palindrome.\n"
     ]
    }
   ],
   "source": [
    "def is_palindrome(string):\n",
    "    # Remove spaces and convert to lowercase for a case-insensitive check\n",
    "    cleaned_string = string.replace(\" \", \"\").lower()\n",
    "    reversed_string = cleaned_string[::-1]  # Reverse the string\n",
    "\n",
    "    # Check if the cleaned string is the same as its reverse\n",
    "    return cleaned_string == reversed_string\n",
    "\n",
    "# Taking input from the user\n",
    "user_input = input(\"Enter a string: \")\n",
    "\n",
    "# Calling the function to check if it's a palindrome\n",
    "if is_palindrome(user_input):\n",
    "    print(f\"'{user_input}' is a palindrome.\")\n",
    "else:\n",
    "    print(f\"'{user_input}' is not a palindrome.\")"
   ]
  },
  {
   "cell_type": "markdown",
   "id": "2af48004-f59c-4309-884d-96187492fd94",
   "metadata": {},
   "source": [
    "10. Write a Python program to calculate the grade based on a student's score."
   ]
  },
  {
   "cell_type": "code",
   "execution_count": 25,
   "id": "478b3be3-4af4-4492-83e9-758a8434c3b1",
   "metadata": {},
   "outputs": [
    {
     "name": "stdin",
     "output_type": "stream",
     "text": [
      "Enter the student's score:  95\n"
     ]
    },
    {
     "name": "stdout",
     "output_type": "stream",
     "text": [
      "The student's grade is: A\n"
     ]
    }
   ],
   "source": [
    "def calculate_grade(score):\n",
    "    if 90 <= score <= 100:\n",
    "        return 'A'\n",
    "    elif 80 <= score < 90:\n",
    "        return 'B'\n",
    "    elif 70 <= score < 80:\n",
    "        return 'C'\n",
    "    elif 60 <= score < 70:\n",
    "        return 'D'\n",
    "    elif 0 <= score < 60:\n",
    "        return 'F'\n",
    "    else:\n",
    "        return 'Invalid Score'\n",
    "\n",
    "# Taking input from the user\n",
    "user_score = float(input(\"Enter the student's score: \"))\n",
    "\n",
    "# Calling the function to calculate the grade\n",
    "result = calculate_grade(user_score)\n",
    "\n",
    "# Printing the grade\n",
    "print(f\"The student's grade is: {result}\")"
   ]
  },
  {
   "cell_type": "markdown",
   "id": "e926b5a7-f215-4dc2-a9ae-20da5eb5c5d4",
   "metadata": {},
   "source": [
    "Nested If-Else Statements:\n",
    "\n",
    "11. Write a program to find the largest among three numbers using nested if-else statements."
   ]
  },
  {
   "cell_type": "code",
   "execution_count": 27,
   "id": "c44af07b-6080-455b-bc7e-17ece9f8b492",
   "metadata": {},
   "outputs": [
    {
     "name": "stdin",
     "output_type": "stream",
     "text": [
      "Enter the first number:  22\n",
      "Enter the second number:  55\n",
      "Enter the third number:  66\n"
     ]
    },
    {
     "name": "stdout",
     "output_type": "stream",
     "text": [
      "The largest number among 22.0, 55.0, and 66.0 is: 66.0\n"
     ]
    }
   ],
   "source": [
    "def find_largest(num1, num2, num3):\n",
    "    if num1 >= num2:\n",
    "        if num1 >= num3:\n",
    "            return num1\n",
    "        else:\n",
    "            return num3\n",
    "    else:\n",
    "        if num2 >= num3:\n",
    "            return num2\n",
    "        else:\n",
    "            return num3\n",
    "\n",
    "# Taking input from the user\n",
    "user_input1 = float(input(\"Enter the first number: \"))\n",
    "user_input2 = float(input(\"Enter the second number: \"))\n",
    "user_input3 = float(input(\"Enter the third number: \"))\n",
    "\n",
    "# Calling the function to find the largest number\n",
    "result = find_largest(user_input1, user_input2, user_input3)\n",
    "\n",
    "# Printing the largest number\n",
    "print(f\"The largest number among {user_input1}, {user_input2}, and {user_input3} is: {result}\")"
   ]
  },
  {
   "cell_type": "markdown",
   "id": "d9a0271b-afea-4220-840b-6cd12d2d1a00",
   "metadata": {},
   "source": [
    "12. Implement a program to determine if a triangle is equilateral, isosceles, or scalene."
   ]
  },
  {
   "cell_type": "code",
   "execution_count": 29,
   "id": "15ac70ef-a021-4683-b0f6-11747d49de84",
   "metadata": {},
   "outputs": [
    {
     "name": "stdin",
     "output_type": "stream",
     "text": [
      "Enter the length of the first side:  10\n",
      "Enter the length of the second side:  25\n",
      "Enter the length of the third side:  36\n"
     ]
    },
    {
     "name": "stdout",
     "output_type": "stream",
     "text": [
      "The triangle with sides 10.0, 25.0, and 36.0 is Scalene.\n"
     ]
    }
   ],
   "source": [
    "def triangle_type(side1, side2, side3):\n",
    "    if side1 == side2 == side3:\n",
    "        return \"Equilateral\"\n",
    "    elif side1 == side2 or side1 == side3 or side2 == side3:\n",
    "        return \"Isosceles\"\n",
    "    else:\n",
    "        return \"Scalene\"\n",
    "\n",
    "# Taking input from the user\n",
    "side1 = float(input(\"Enter the length of the first side: \"))\n",
    "side2 = float(input(\"Enter the length of the second side: \"))\n",
    "side3 = float(input(\"Enter the length of the third side: \"))\n",
    "\n",
    "# Calling the function to determine the type of triangle\n",
    "result = triangle_type(side1, side2, side3)\n",
    "\n",
    "# Printing the type of triangle\n",
    "print(f\"The triangle with sides {side1}, {side2}, and {side3} is {result}.\")"
   ]
  },
  {
   "cell_type": "markdown",
   "id": "8f234e3a-baaf-438a-ba98-cb4b8f84c9d3",
   "metadata": {},
   "source": [
    "13. Develop a program that checks if a year is a leap year and also if it is a century year."
   ]
  },
  {
   "cell_type": "code",
   "execution_count": 32,
   "id": "eb1ebd0a-eb4b-4ab1-839a-6161cf2f3d32",
   "metadata": {},
   "outputs": [
    {
     "name": "stdin",
     "output_type": "stream",
     "text": [
      "Enter a year:  2000\n"
     ]
    },
    {
     "name": "stdout",
     "output_type": "stream",
     "text": [
      "2000 is a leap year.\n",
      "2000 is a century year.\n"
     ]
    }
   ],
   "source": [
    "def is_leap_year(year):\n",
    "    if (year % 4 == 0 and year % 100 != 0) or (year % 400 == 0):\n",
    "        return True\n",
    "    else:\n",
    "        return False\n",
    "\n",
    "def is_century_year(year):\n",
    "    if year % 100 == 0:\n",
    "        return True\n",
    "    else:\n",
    "        return False\n",
    "\n",
    "# Taking input from the user\n",
    "user_year = int(input(\"Enter a year: \"))\n",
    "\n",
    "# Checking if it's a leap year\n",
    "if is_leap_year(user_year):\n",
    "    print(f\"{user_year} is a leap year.\")\n",
    "else:\n",
    "    print(f\"{user_year} is not a leap year.\")\n",
    "\n",
    "# Checking if it's a century year\n",
    "if is_century_year(user_year):\n",
    "    print(f\"{user_year} is a century year.\")\n",
    "else:\n",
    "    print(f\"{user_year} is not a century year.\")\n",
    "    "
   ]
  },
  {
   "cell_type": "markdown",
   "id": "254e97fd-99d9-4d6e-bd4c-25f5eb6635aa",
   "metadata": {},
   "source": [
    "14. Write a Python script to determine if a number is positive, negative, or zero."
   ]
  },
  {
   "cell_type": "code",
   "execution_count": 34,
   "id": "ccbc7e2e-32eb-4c78-b9fd-caba842e194b",
   "metadata": {},
   "outputs": [
    {
     "name": "stdin",
     "output_type": "stream",
     "text": [
      "Enter a number:  -33\n"
     ]
    },
    {
     "name": "stdout",
     "output_type": "stream",
     "text": [
      "-33.0 is negative\n"
     ]
    }
   ],
   "source": [
    "def check_positive_negative_zero(number):\n",
    "    if number > 0:\n",
    "        print(f\"{number} is positive\")\n",
    "    elif number < 0:\n",
    "        print(f\"{number} is negative\")\n",
    "    else:\n",
    "        print(f\"{number} is zero\")\n",
    "\n",
    "# Taking input from the user\n",
    "user_input = float(input(\"Enter a number: \"))\n",
    "\n",
    "# Calling the function to check if the number is positive, negative, or zero\n",
    "check_positive_negative_zero(user_input)"
   ]
  },
  {
   "cell_type": "markdown",
   "id": "ddda32c8-9bb8-4832-a1e5-34b8cbb7743b",
   "metadata": {},
   "source": [
    "15. Create a program to check if a person is a teenager (between 13 and 19 years old)."
   ]
  },
  {
   "cell_type": "code",
   "execution_count": 37,
   "id": "1baa832c-c950-42da-855a-fc9e93e3160a",
   "metadata": {},
   "outputs": [
    {
     "name": "stdin",
     "output_type": "stream",
     "text": [
      "Enter your age:  23\n"
     ]
    },
    {
     "name": "stdout",
     "output_type": "stream",
     "text": [
      "You are not a teenager.\n"
     ]
    }
   ],
   "source": [
    "def is_teenager(age):\n",
    "    if 13 <= age <= 19:\n",
    "        return True\n",
    "    else:\n",
    "        return False\n",
    "\n",
    "# Taking input from the user\n",
    "user_age = int(input(\"Enter your age: \"))\n",
    "\n",
    "# Checking if the person is a teenager\n",
    "if is_teenager(user_age):\n",
    "    print(\"You are a teenager!\")\n",
    "else:\n",
    "    print(\"You are not a teenager.\")"
   ]
  },
  {
   "cell_type": "markdown",
   "id": "d1db06d4-d0d4-4276-99d3-a8362c64d2da",
   "metadata": {},
   "source": [
    "16. Develop a program that determines the type of angle based on its measure (acute, obtuse, or right)."
   ]
  },
  {
   "cell_type": "code",
   "execution_count": 40,
   "id": "3c64a315-4785-4c07-8f86-1e1adfa69c72",
   "metadata": {},
   "outputs": [
    {
     "name": "stdin",
     "output_type": "stream",
     "text": [
      "Enter the measure of the angle (in degrees):  360\n"
     ]
    },
    {
     "name": "stdout",
     "output_type": "stream",
     "text": [
      "The angle with measure 360.0 degrees is a Obtuse Angle.\n"
     ]
    }
   ],
   "source": [
    "def angle_type(angle):\n",
    "    if angle < 90:\n",
    "        return \"Acute Angle\"\n",
    "    elif angle == 90:\n",
    "        return \"Right Angle\"\n",
    "    else:\n",
    "        return \"Obtuse Angle\"\n",
    "\n",
    "# Taking input from the user\n",
    "user_angle = float(input(\"Enter the measure of the angle (in degrees): \"))\n",
    "\n",
    "# Checking the type of angle\n",
    "result = angle_type(user_angle)\n",
    "\n",
    "# Printing the type of angle\n",
    "print(f\"The angle with measure {user_angle} degrees is a {result}.\")"
   ]
  },
  {
   "cell_type": "markdown",
   "id": "dd195011-8da8-47a6-8ff4-75c682bb2ffe",
   "metadata": {},
   "source": [
    "17. Write a Python program to calculate the roots of a quadratic equation."
   ]
  },
  {
   "cell_type": "code",
   "execution_count": 42,
   "id": "9699b62e-2bca-4243-92f5-023cb5cf458c",
   "metadata": {},
   "outputs": [
    {
     "name": "stdin",
     "output_type": "stream",
     "text": [
      "Enter coefficient a:  10\n",
      "Enter coefficient b:  20\n",
      "Enter coefficient c:  30\n"
     ]
    },
    {
     "name": "stdout",
     "output_type": "stream",
     "text": [
      "The roots are complex:\n",
      "Root 1: (-1+1.4142135623730951j)\n",
      "Root 2: (-1-1.4142135623730951j)\n"
     ]
    }
   ],
   "source": [
    "import math\n",
    "\n",
    "def quadratic_roots(a, b, c):\n",
    "    discriminant = b**2 - 4*a*c\n",
    "    \n",
    "    if discriminant > 0:\n",
    "        root1 = (-b + math.sqrt(discriminant)) / (2*a)\n",
    "        root2 = (-b - math.sqrt(discriminant)) / (2*a)\n",
    "        return root1, root2\n",
    "    elif discriminant == 0:\n",
    "        root = -b / (2*a)\n",
    "        return root, root\n",
    "    else:\n",
    "        real_part = -b / (2*a)\n",
    "        imaginary_part = math.sqrt(abs(discriminant)) / (2*a)\n",
    "        root1 = complex(real_part, imaginary_part)\n",
    "        root2 = complex(real_part, -imaginary_part)\n",
    "        return root1, root2\n",
    "\n",
    "# Taking input for coefficients\n",
    "a = float(input(\"Enter coefficient a: \"))\n",
    "b = float(input(\"Enter coefficient b: \"))\n",
    "c = float(input(\"Enter coefficient c: \"))\n",
    "\n",
    "# Calling the function to calculate roots\n",
    "roots = quadratic_roots(a, b, c)\n",
    "\n",
    "# Printing the roots\n",
    "if isinstance(roots[0], complex):\n",
    "    print(f\"The roots are complex:\")\n",
    "    print(f\"Root 1: {roots[0]}\")\n",
    "    print(f\"Root 2: {roots[1]}\")\n",
    "else:\n",
    "    print(f\"The roots are real:\")\n",
    "    print(f\"Root 1: {roots[0]}\")\n",
    "    print(f\"Root 2: {roots[1]}\")"
   ]
  },
  {
   "cell_type": "markdown",
   "id": "661015db-0515-482b-a24b-5adf53f2afa3",
   "metadata": {},
   "source": [
    "18. Implement a program to determine the day of the week based on a user-provided number (1 for Monday, 2\n",
    "for Tuesday, etc.)."
   ]
  },
  {
   "cell_type": "code",
   "execution_count": 45,
   "id": "ef484a1c-0a2d-4089-a3e5-e87ace5bebc1",
   "metadata": {},
   "outputs": [
    {
     "name": "stdin",
     "output_type": "stream",
     "text": [
      "Enter a number (1 for Monday, 2 for Tuesday, etc.):  4\n"
     ]
    },
    {
     "name": "stdout",
     "output_type": "stream",
     "text": [
      "The day of the week is: Thursday\n"
     ]
    }
   ],
   "source": [
    "def day_of_week(number):\n",
    "    if number == 1:\n",
    "        return \"Monday\"\n",
    "    elif number == 2:\n",
    "        return \"Tuesday\"\n",
    "    elif number == 3:\n",
    "        return \"Wednesday\"\n",
    "    elif number == 4:\n",
    "        return \"Thursday\"\n",
    "    elif number == 5:\n",
    "        return \"Friday\"\n",
    "    elif number == 6:\n",
    "        return \"Saturday\"\n",
    "    elif number == 7:\n",
    "        return \"Sunday\"\n",
    "    else:\n",
    "        return \"Invalid input. Please enter a number between 1 and 7.\"\n",
    "\n",
    "# Taking input from the user\n",
    "user_input = int(input(\"Enter a number (1 for Monday, 2 for Tuesday, etc.): \"))\n",
    "\n",
    "# Calling the function to determine the day of the week\n",
    "result = day_of_week(user_input)\n",
    "\n",
    "# Printing the day of the week\n",
    "print(f\"The day of the week is: {result}\")"
   ]
  },
  {
   "cell_type": "markdown",
   "id": "8bfbfc5f-71b6-4620-bf77-01c4987a735f",
   "metadata": {},
   "source": [
    "19. Create a program that determines if a year is a leap year and also if it is evenly divisible by 400."
   ]
  },
  {
   "cell_type": "code",
   "execution_count": 47,
   "id": "00a4fc38-e9ef-479d-ae53-d560e10a71a2",
   "metadata": {},
   "outputs": [
    {
     "name": "stdin",
     "output_type": "stream",
     "text": [
      "Enter a year:  2000\n"
     ]
    },
    {
     "name": "stdout",
     "output_type": "stream",
     "text": [
      "2000 is a leap year.\n",
      "2000 is evenly divisible by 400.\n"
     ]
    }
   ],
   "source": [
    "def is_leap_year(year):\n",
    "    if (year % 4 == 0 and year % 100 != 0) or (year % 400 == 0):\n",
    "        return True\n",
    "    else:\n",
    "        return False\n",
    "\n",
    "def is_divisible_by_400(year):\n",
    "    if year % 400 == 0:\n",
    "        return True\n",
    "    else:\n",
    "        return False\n",
    "\n",
    "# Taking input from the user\n",
    "user_year = int(input(\"Enter a year: \"))\n",
    "\n",
    "# Checking if it's a leap year\n",
    "if is_leap_year(user_year):\n",
    "    print(f\"{user_year} is a leap year.\")\n",
    "else:\n",
    "    print(f\"{user_year} is not a leap year.\")\n",
    "\n",
    "# Checking if it's divisible by 400\n",
    "if is_divisible_by_400(user_year):\n",
    "    print(f\"{user_year} is evenly divisible by 400.\")\n",
    "else:\n",
    "    print(f\"{user_year} is not evenly divisible by 400.\")"
   ]
  },
  {
   "cell_type": "markdown",
   "id": "c7a17e0b-135d-4ad3-9784-f85cefda0dca",
   "metadata": {},
   "source": [
    "20. Develop a program that checks if a given number is prime or not using nested if-else statements."
   ]
  },
  {
   "cell_type": "code",
   "execution_count": 49,
   "id": "5fbfdf11-1e73-4734-a8bd-31a734f1fbae",
   "metadata": {},
   "outputs": [
    {
     "name": "stdin",
     "output_type": "stream",
     "text": [
      "Enter a number:  1999\n"
     ]
    },
    {
     "name": "stdout",
     "output_type": "stream",
     "text": [
      "1999 is a prime number.\n"
     ]
    }
   ],
   "source": [
    "def is_prime(number):\n",
    "    if number < 2:\n",
    "        return False\n",
    "    elif number == 2:\n",
    "        return True\n",
    "    elif number % 2 == 0:\n",
    "        return False\n",
    "    else:\n",
    "        for i in range(3, int(number**0.5) + 1, 2):\n",
    "            if number % i == 0:\n",
    "                return False\n",
    "        return True\n",
    "\n",
    "# Taking input from the user\n",
    "user_number = int(input(\"Enter a number: \"))\n",
    "\n",
    "# Checking if the number is prime\n",
    "if is_prime(user_number):\n",
    "    print(f\"{user_number} is a prime number.\")\n",
    "else:\n",
    "    print(f\"{user_number} is not a prime number.\")"
   ]
  },
  {
   "cell_type": "markdown",
   "id": "e4327d28-bb9c-42ec-8a2d-8956f78103d2",
   "metadata": {},
   "source": [
    "Elif Statements:\n",
    "    \n",
    "21. Write a Python program to assign grades based on different ranges of scores using elif statements."
   ]
  },
  {
   "cell_type": "code",
   "execution_count": 52,
   "id": "68d235a4-01bc-493d-9eb0-00d4835eda6f",
   "metadata": {},
   "outputs": [
    {
     "name": "stdin",
     "output_type": "stream",
     "text": [
      "Enter the student's score:  93\n"
     ]
    },
    {
     "name": "stdout",
     "output_type": "stream",
     "text": [
      "The student's grade is: A\n"
     ]
    }
   ],
   "source": [
    "def assign_grade(score):\n",
    "    if 90 <= score <= 100:\n",
    "        return 'A'\n",
    "    elif 80 <= score < 90:\n",
    "        return 'B'\n",
    "    elif 70 <= score < 80:\n",
    "        return 'C'\n",
    "    elif 60 <= score < 70:\n",
    "        return 'D'\n",
    "    elif 0 <= score < 60:\n",
    "        return 'F'\n",
    "    else:\n",
    "        return 'Invalid Score'\n",
    "\n",
    "# Taking input from the user\n",
    "user_score = float(input(\"Enter the student's score: \"))\n",
    "\n",
    "# Assigning the grade\n",
    "result = assign_grade(user_score)\n",
    "\n",
    "# Printing the grade\n",
    "print(f\"The student's grade is: {result}\")"
   ]
  },
  {
   "cell_type": "markdown",
   "id": "3b7b42a2-dc81-4a90-b23a-fa7c39c7d376",
   "metadata": {},
   "source": [
    "22. Implement a program to determine the type of a triangle based on its angles."
   ]
  },
  {
   "cell_type": "code",
   "execution_count": 54,
   "id": "909f5484-ffb0-4eef-8086-4d619c69c33c",
   "metadata": {},
   "outputs": [
    {
     "name": "stdin",
     "output_type": "stream",
     "text": [
      "Enter the first angle (in degrees):  60\n",
      "Enter the second angle (in degrees):  60\n",
      "Enter the third angle (in degrees):  60\n"
     ]
    },
    {
     "name": "stdout",
     "output_type": "stream",
     "text": [
      "The triangle with angles 60.0, 60.0, and 60.0 is a Acute Triangle.\n"
     ]
    }
   ],
   "source": [
    "def triangle_type(angle1, angle2, angle3):\n",
    "    if angle1 + angle2 + angle3 == 180:\n",
    "        if angle1 < 90 and angle2 < 90 and angle3 < 90:\n",
    "            return \"Acute Triangle\"\n",
    "        elif angle1 == 90 or angle2 == 90 or angle3 == 90:\n",
    "            return \"Right Triangle\"\n",
    "        else:\n",
    "            return \"Obtuse Triangle\"\n",
    "    else:\n",
    "        return \"Invalid Triangle\"\n",
    "\n",
    "# Taking input from the user\n",
    "angle1 = float(input(\"Enter the first angle (in degrees): \"))\n",
    "angle2 = float(input(\"Enter the second angle (in degrees): \"))\n",
    "angle3 = float(input(\"Enter the third angle (in degrees): \"))\n",
    "\n",
    "# Checking the type of triangle\n",
    "result = triangle_type(angle1, angle2, angle3)\n",
    "\n",
    "# Printing the type of triangle\n",
    "print(f\"The triangle with angles {angle1}, {angle2}, and {angle3} is a {result}.\")"
   ]
  },
  {
   "cell_type": "markdown",
   "id": "7a212610-d6de-49e2-9672-a07bf8965183",
   "metadata": {},
   "source": [
    "23. Develop a program to categorize a given person's BMI into underweight, normal, overweight, or obese using\n",
    "elif statements."
   ]
  },
  {
   "cell_type": "code",
   "execution_count": 56,
   "id": "27a9797d-8724-4332-bd6e-5c9af5462e70",
   "metadata": {},
   "outputs": [
    {
     "name": "stdin",
     "output_type": "stream",
     "text": [
      "Enter your weight in kilograms:  90\n",
      "Enter your height in meters:  1.75\n"
     ]
    },
    {
     "name": "stdout",
     "output_type": "stream",
     "text": [
      "Your BMI is 29.39, which categorizes you as Overweight.\n"
     ]
    }
   ],
   "source": [
    "def calculate_bmi(weight_kg, height_m):\n",
    "    return weight_kg / (height_m ** 2)\n",
    "\n",
    "def categorize_bmi(bmi):\n",
    "    if bmi < 18.5:\n",
    "        return \"Underweight\"\n",
    "    elif 18.5 <= bmi < 24.9:\n",
    "        return \"Normal Weight\"\n",
    "    elif 25 <= bmi < 29.9:\n",
    "        return \"Overweight\"\n",
    "    else:\n",
    "        return \"Obese\"\n",
    "\n",
    "# Taking input from the user\n",
    "weight = float(input(\"Enter your weight in kilograms: \"))\n",
    "height = float(input(\"Enter your height in meters: \"))\n",
    "\n",
    "# Calculating BMI\n",
    "bmi = calculate_bmi(weight, height)\n",
    "\n",
    "# Categorizing BMI\n",
    "result = categorize_bmi(bmi)\n",
    "\n",
    "# Printing the BMI category\n",
    "print(f\"Your BMI is {bmi:.2f}, which categorizes you as {result}.\")"
   ]
  },
  {
   "cell_type": "markdown",
   "id": "2a11c1bb-39ce-4ef7-b0cd-6b1eb6ff1c6f",
   "metadata": {},
   "source": [
    "24. Create a program that determines whether a given number is positive, negative, or zero using elif\n",
    "statements."
   ]
  },
  {
   "cell_type": "code",
   "execution_count": 58,
   "id": "cd69b261-7e64-447d-9877-c8329949d2a5",
   "metadata": {},
   "outputs": [
    {
     "name": "stdin",
     "output_type": "stream",
     "text": [
      "Enter a number:  20\n"
     ]
    },
    {
     "name": "stdout",
     "output_type": "stream",
     "text": [
      "20.0 is positive\n"
     ]
    }
   ],
   "source": [
    "def check_positive_negative_zero(number):\n",
    "    if number > 0:\n",
    "        print(f\"{number} is positive\")\n",
    "    elif number < 0:\n",
    "        print(f\"{number} is negative\")\n",
    "    else:\n",
    "        print(f\"{number} is zero\")\n",
    "\n",
    "# Taking input from the user\n",
    "user_input = float(input(\"Enter a number: \"))\n",
    "\n",
    "# Calling the function to check if the number is positive, negative, or zero\n",
    "check_positive_negative_zero(user_input)"
   ]
  },
  {
   "cell_type": "markdown",
   "id": "6ab30b6b-22de-44b0-a299-283a837b9dad",
   "metadata": {},
   "source": [
    "25. Write a Python script to determine the type of a character (uppercase, lowercase, or special) using elif\n",
    "statements."
   ]
  },
  {
   "cell_type": "code",
   "execution_count": 60,
   "id": "bb9ca111-aef4-4d53-b3ac-008125b08e16",
   "metadata": {},
   "outputs": [
    {
     "name": "stdin",
     "output_type": "stream",
     "text": [
      "Enter a character:  25\n"
     ]
    },
    {
     "name": "stdout",
     "output_type": "stream",
     "text": [
      "The character '25' is a Special Character.\n"
     ]
    }
   ],
   "source": [
    "def char_type(character):\n",
    "    if character.isupper():\n",
    "        return \"Uppercase\"\n",
    "    elif character.islower():\n",
    "        return \"Lowercase\"\n",
    "    else:\n",
    "        return \"Special Character\"\n",
    "\n",
    "# Taking input from the user\n",
    "user_char = input(\"Enter a character: \")\n",
    "\n",
    "# Checking the type of character\n",
    "result = char_type(user_char)\n",
    "\n",
    "# Printing the type of character\n",
    "print(f\"The character '{user_char}' is a {result}.\")"
   ]
  },
  {
   "cell_type": "markdown",
   "id": "b3975b11-865c-44ae-aacc-8122cb994edb",
   "metadata": {},
   "source": [
    "26. Implement a program to calculate the discounted price based on different purchase amounts using elif\n",
    "statements."
   ]
  },
  {
   "cell_type": "code",
   "execution_count": 63,
   "id": "f3a597a7-5228-4808-835a-e91d61b75bf0",
   "metadata": {},
   "outputs": [
    {
     "name": "stdin",
     "output_type": "stream",
     "text": [
      "Enter the original price:  1200\n"
     ]
    },
    {
     "name": "stdout",
     "output_type": "stream",
     "text": [
      "The discounted price is: Rs.1080.00\n"
     ]
    }
   ],
   "source": [
    "def calculate_discounted_price(original_price):\n",
    "    if original_price >= 1000:\n",
    "        discounted_price = original_price * 0.9  # 10% discount for purchases >= $1000\n",
    "    elif original_price >= 500:\n",
    "        discounted_price = original_price * 0.95  # 5% discount for purchases >= $500\n",
    "    elif original_price >= 100:\n",
    "        discounted_price = original_price * 0.98  # 2% discount for purchases >= $100\n",
    "    else:\n",
    "        discounted_price = original_price  # No discount for purchases < $100\n",
    "    return discounted_price\n",
    "\n",
    "# Taking input from the user\n",
    "original_price = float(input(\"Enter the original price: \"))\n",
    "\n",
    "# Calculating discounted price\n",
    "discounted_price = calculate_discounted_price(original_price)\n",
    "\n",
    "# Printing the discounted price\n",
    "print(f\"The discounted price is: Rs.{discounted_price:.2f}\")"
   ]
  },
  {
   "cell_type": "markdown",
   "id": "740c130b-550f-44a7-8725-b02ee12c6c17",
   "metadata": {},
   "source": [
    "27. Develop a program to calculate the electricity bill based on different consumption slabs using elif\n",
    "statements."
   ]
  },
  {
   "cell_type": "code",
   "execution_count": 65,
   "id": "5db4b1d9-08b3-4e9f-9f49-8662d8c63b45",
   "metadata": {},
   "outputs": [
    {
     "name": "stdin",
     "output_type": "stream",
     "text": [
      "Enter the number of units consumed:  260\n"
     ]
    },
    {
     "name": "stdout",
     "output_type": "stream",
     "text": [
      "The electricity bill is: $1045.00\n"
     ]
    }
   ],
   "source": [
    "def calculate_electricity_bill(units):\n",
    "    if units <= 50:\n",
    "        bill = units * 2.60\n",
    "    elif units <= 150:\n",
    "        bill = 50 * 2.60 + (units - 50) * 3.25\n",
    "    elif units <= 250:\n",
    "        bill = 50 * 2.60 + 100 * 3.25 + (units - 150) * 5.25\n",
    "    else:\n",
    "        bill = 50 * 2.60 + 100 * 3.25 + 100 * 5.25 + (units - 250) * 6.50\n",
    "    return bill\n",
    "\n",
    "# Taking input from the user\n",
    "consumed_units = float(input(\"Enter the number of units consumed: \"))\n",
    "\n",
    "# Calculating electricity bill\n",
    "electricity_bill = calculate_electricity_bill(consumed_units)\n",
    "\n",
    "# Printing the electricity bill\n",
    "print(f\"The electricity bill is: ${electricity_bill:.2f}\")"
   ]
  },
  {
   "cell_type": "markdown",
   "id": "496680af-ba7c-4235-855c-de8ecf476f3b",
   "metadata": {},
   "source": [
    "28. Create a program to determine the type of quadrilateral based on its angles and sides using elif\n",
    "statements."
   ]
  },
  {
   "cell_type": "code",
   "execution_count": 2,
   "id": "39c3fca0-7052-4a9b-8b07-dc2db5e5db89",
   "metadata": {},
   "outputs": [
    {
     "name": "stdin",
     "output_type": "stream",
     "text": [
      "Enter the number of sides:  3\n",
      "Enter the sum of angles (in degrees):  10\n",
      "Enter angle 1 (in degrees):  10\n",
      "Enter angle 2 (in degrees):  10\n",
      "Enter angle 3 (in degrees):  2\n",
      "Enter side 1 length:  2\n",
      "Enter side 2 length:  2\n",
      "Enter side 3 length:  2\n"
     ]
    },
    {
     "name": "stdout",
     "output_type": "stream",
     "text": [
      "The given figure is a Invalid.\n"
     ]
    }
   ],
   "source": [
    "def identify_quadrilateral(sides, angles):\n",
    "    if sides == 4 and angles == 360:\n",
    "        if all(angle == 90 for angle in angles):\n",
    "            return \"Rectangle\"\n",
    "        elif angles[0] == angles[2] and angles[1] == angles[3]:\n",
    "            return \"Parallelogram\"\n",
    "        elif all(angle == 90 for angle in angles) and sides[0] == sides[1] == sides[2] == sides[3]:\n",
    "            return \"Square\"\n",
    "        else:\n",
    "            return \"Quadrilateral\"\n",
    "    else:\n",
    "        return \"Invalid\"\n",
    "\n",
    "# Taking input from the user\n",
    "num_sides = int(input(\"Enter the number of sides: \"))\n",
    "num_angles = int(input(\"Enter the sum of angles (in degrees): \"))\n",
    "\n",
    "# Inputting the angles\n",
    "angles = []\n",
    "for i in range(num_sides):\n",
    "    angle = float(input(f\"Enter angle {i+1} (in degrees): \"))\n",
    "    angles.append(angle)\n",
    "\n",
    "# Inputting the sides\n",
    "sides = []\n",
    "for i in range(num_sides):\n",
    "    side = float(input(f\"Enter side {i+1} length: \"))\n",
    "    sides.append(side)\n",
    "\n",
    "# Identifying the quadrilateral type\n",
    "result = identify_quadrilateral(sides, angles)\n",
    "\n",
    "# Printing the type of quadrilateral\n",
    "print(f\"The given figure is a {result}.\")"
   ]
  },
  {
   "cell_type": "markdown",
   "id": "182826f8-9c7d-4e20-a113-e66bbc6161ef",
   "metadata": {},
   "source": [
    "29. Write a Python script to determine the season based on a user-provided month using elif statements."
   ]
  },
  {
   "cell_type": "code",
   "execution_count": 4,
   "id": "27eb8a7a-9dbe-42f5-953f-1a8966fe4018",
   "metadata": {},
   "outputs": [
    {
     "name": "stdin",
     "output_type": "stream",
     "text": [
      "Enter a month (as a number, e.g., 1 for January, 2 for February, etc.):  2\n"
     ]
    },
    {
     "name": "stdout",
     "output_type": "stream",
     "text": [
      "The season for the given month is: Winter\n"
     ]
    }
   ],
   "source": [
    "def determine_season(month):\n",
    "    if month in (12, 1, 2):\n",
    "        return \"Winter\"\n",
    "    elif month in (3, 4, 5):\n",
    "        return \"Spring\"\n",
    "    elif month in (6, 7, 8):\n",
    "        return \"Summer\"\n",
    "    elif month in (9, 10, 11):\n",
    "        return \"Autumn\"\n",
    "    else:\n",
    "        return \"Invalid Month\"\n",
    "\n",
    "# Taking input from the user\n",
    "user_month = int(input(\"Enter a month (as a number, e.g., 1 for January, 2 for February, etc.): \"))\n",
    "\n",
    "# Determining the season\n",
    "result = determine_season(user_month)\n",
    "\n",
    "# Printing the season\n",
    "print(f\"The season for the given month is: {result}\")"
   ]
  },
  {
   "cell_type": "markdown",
   "id": "0e7fc470-6ba4-451e-9e2b-42fe18add0d7",
   "metadata": {},
   "source": [
    "30. Implement a program to determine the type of a year (leap or common) and month (30 or 31 days) using\n",
    "elif statements."
   ]
  },
  {
   "cell_type": "code",
   "execution_count": 2,
   "id": "f1e25416-ba2c-4227-986d-c30847ebfb8a",
   "metadata": {},
   "outputs": [
    {
     "name": "stdin",
     "output_type": "stream",
     "text": [
      "Enter a month (as a number, e.g., 1 for January, 2 for February, etc.):  2\n",
      "Enter a year:  2000\n"
     ]
    },
    {
     "name": "stdout",
     "output_type": "stream",
     "text": [
      "The year 2000 is a Leap Year.\n",
      "The month has 29 days.\n"
     ]
    }
   ],
   "source": [
    "def is_leap_year(year):\n",
    "    if (year % 4 == 0 and year % 100 != 0) or (year % 400 == 0):\n",
    "        return True\n",
    "    else:\n",
    "        return False\n",
    "\n",
    "def days_in_month(month, year):\n",
    "    if month == 2:\n",
    "        if is_leap_year(year):\n",
    "            return 29\n",
    "        else:\n",
    "            return 28\n",
    "    elif month in (4, 6, 9, 11):\n",
    "        return 30\n",
    "    else:\n",
    "        return 31\n",
    "\n",
    "# Taking input from the user\n",
    "user_month = int(input(\"Enter a month (as a number, e.g., 1 for January, 2 for February, etc.): \"))\n",
    "user_year = int(input(\"Enter a year: \"))\n",
    "\n",
    "# Determining the type of year\n",
    "if is_leap_year(user_year):\n",
    "    year_type = \"Leap Year\"\n",
    "else:\n",
    "    year_type = \"Common Year\"\n",
    "\n",
    "# Determining the number of days in the month\n",
    "days = days_in_month(user_month, user_year)\n",
    "\n",
    "# Printing the results\n",
    "print(f\"The year {user_year} is a {year_type}.\")\n",
    "print(f\"The month has {days} days.\")"
   ]
  },
  {
   "cell_type": "markdown",
   "id": "2c27479c-81b9-4da3-9114-634e0075dcb7",
   "metadata": {},
   "source": [
    "Challenge Level:\n",
    "    \n",
    "31. Create a program that validates a password based on complexity rules (length, characters, etc.)."
   ]
  },
  {
   "cell_type": "code",
   "execution_count": 4,
   "id": "1c98b7f4-3319-470c-b2ad-0737e8c2981b",
   "metadata": {},
   "outputs": [
    {
     "name": "stdin",
     "output_type": "stream",
     "text": [
      "Enter a password:  Nitin@1284\n"
     ]
    },
    {
     "name": "stdout",
     "output_type": "stream",
     "text": [
      "Password is valid.\n"
     ]
    }
   ],
   "source": [
    "def validate_password(password):\n",
    "    # Check length\n",
    "    if len(password) < 8:\n",
    "        return False\n",
    "    \n",
    "    # Check for at least one uppercase letter\n",
    "    if not any(char.isupper() for char in password):\n",
    "        return False\n",
    "    \n",
    "    # Check for at least one lowercase letter\n",
    "    if not any(char.islower() for char in password):\n",
    "        return False\n",
    "    \n",
    "    # Check for at least one digit\n",
    "    if not any(char.isdigit() for char in password):\n",
    "        return False\n",
    "    \n",
    "    # Check for at least one special character\n",
    "    special_chars = \"!@#$%^&*()-_+=<>?/\\\\\"\n",
    "    if not any(char in special_chars for char in password):\n",
    "        return False\n",
    "    \n",
    "    return True\n",
    "\n",
    "# Taking input from the user\n",
    "user_password = input(\"Enter a password: \")\n",
    "\n",
    "# Validating the password\n",
    "if validate_password(user_password):\n",
    "    print(\"Password is valid.\")\n",
    "else:\n",
    "    print(\"Password is not valid. Please ensure it meets the complexity requirements.\")"
   ]
  },
  {
   "cell_type": "markdown",
   "id": "ea2525f3-52bb-40ee-8e95-b0ac3c78db90",
   "metadata": {},
   "source": [
    "32. Develop a program that performs matrix addition and subtraction based on user input."
   ]
  },
  {
   "cell_type": "code",
   "execution_count": 7,
   "id": "6991940c-a228-43b2-9d8e-c3f469c68fc8",
   "metadata": {},
   "outputs": [
    {
     "name": "stdin",
     "output_type": "stream",
     "text": [
      "Enter the number of rows:  1\n",
      "Enter the number of columns:  1\n"
     ]
    },
    {
     "name": "stdout",
     "output_type": "stream",
     "text": [
      "Enter elements for the first matrix:\n"
     ]
    },
    {
     "name": "stdin",
     "output_type": "stream",
     "text": [
      "Enter element [1][1]:  12\n"
     ]
    },
    {
     "name": "stdout",
     "output_type": "stream",
     "text": [
      "Enter elements for the second matrix:\n"
     ]
    },
    {
     "name": "stdin",
     "output_type": "stream",
     "text": [
      "Enter element [1][1]:  13\n"
     ]
    },
    {
     "name": "stdout",
     "output_type": "stream",
     "text": [
      "\n",
      "Matrix Addition Result:\n",
      "25\n",
      "\n",
      "Matrix Subtraction Result:\n",
      "-1\n"
     ]
    }
   ],
   "source": [
    "def matrix_addition(matrix1, matrix2):\n",
    "    result = [[matrix1[i][j] + matrix2[i][j] for j in range(len(matrix1[0]))] for i in range(len(matrix1))]\n",
    "    return result\n",
    "\n",
    "def matrix_subtraction(matrix1, matrix2):\n",
    "    result = [[matrix1[i][j] - matrix2[i][j] for j in range(len(matrix1[0]))] for i in range(len(matrix1))]\n",
    "    return result\n",
    "\n",
    "def print_matrix(matrix):\n",
    "    for row in matrix:\n",
    "        print(' '.join(str(elem) for elem in row))\n",
    "\n",
    "# Taking input for matrix dimensions\n",
    "rows = int(input(\"Enter the number of rows: \"))\n",
    "cols = int(input(\"Enter the number of columns: \"))\n",
    "\n",
    "# Taking input for the first matrix\n",
    "print(\"Enter elements for the first matrix:\")\n",
    "matrix1 = [[int(input(f\"Enter element [{i+1}][{j+1}]: \")) for j in range(cols)] for i in range(rows)]\n",
    "\n",
    "# Taking input for the second matrix\n",
    "print(\"Enter elements for the second matrix:\")\n",
    "matrix2 = [[int(input(f\"Enter element [{i+1}][{j+1}]: \")) for j in range(cols)] for i in range(rows)]\n",
    "\n",
    "# Performing addition and subtraction\n",
    "addition_result = matrix_addition(matrix1, matrix2)\n",
    "subtraction_result = matrix_subtraction(matrix1, matrix2)\n",
    "\n",
    "# Printing the results\n",
    "print(\"\\nMatrix Addition Result:\")\n",
    "print_matrix(addition_result)\n",
    "\n",
    "print(\"\\nMatrix Subtraction Result:\")\n",
    "print_matrix(subtraction_result)"
   ]
  },
  {
   "cell_type": "markdown",
   "id": "576440d1-1a6a-4cf8-ac74-9eaf970f6195",
   "metadata": {},
   "source": [
    "33. Write a program that calculates the greatest common divisor (GCD) of two numbers using the Euclidean\n",
    "algorithm."
   ]
  },
  {
   "cell_type": "code",
   "execution_count": 9,
   "id": "0fa887dd-afc7-45a8-99b2-c5727fbd3002",
   "metadata": {},
   "outputs": [
    {
     "name": "stdin",
     "output_type": "stream",
     "text": [
      "Enter the first number:  105\n",
      "Enter the second number:  21\n"
     ]
    },
    {
     "name": "stdout",
     "output_type": "stream",
     "text": [
      "The Greatest Common Divisor (GCD) of 105 and 21 is: 21\n"
     ]
    }
   ],
   "source": [
    "def gcd_euclidean(a, b):\n",
    "    while b:\n",
    "        a, b = b, a % b\n",
    "    return a\n",
    "\n",
    "# Taking input from the user\n",
    "num1 = int(input(\"Enter the first number: \"))\n",
    "num2 = int(input(\"Enter the second number: \"))\n",
    "\n",
    "# Calculating GCD using the Euclidean algorithm\n",
    "gcd = gcd_euclidean(num1, num2)\n",
    "\n",
    "# Printing the GCD\n",
    "print(f\"The Greatest Common Divisor (GCD) of {num1} and {num2} is: {gcd}\")"
   ]
  },
  {
   "cell_type": "markdown",
   "id": "7b5314e8-5d97-4132-8232-875cd67214b2",
   "metadata": {},
   "source": [
    "34. Build a program that performs matrix multiplication using nested loops and conditional statements."
   ]
  },
  {
   "cell_type": "code",
   "execution_count": 3,
   "id": "1a952a07-d22f-4037-a61c-716cd66b8769",
   "metadata": {},
   "outputs": [
    {
     "name": "stdin",
     "output_type": "stream",
     "text": [
      "Enter the number of rows for the first matrix:  2\n",
      "Enter the number of columns for the first matrix:  2\n",
      "Enter the number of rows for the second matrix:  2\n",
      "Enter the number of columns for the second matrix:  2\n"
     ]
    },
    {
     "name": "stdout",
     "output_type": "stream",
     "text": [
      "Enter elements for the first matrix:\n"
     ]
    },
    {
     "name": "stdin",
     "output_type": "stream",
     "text": [
      "Enter element [1][1]:  2\n",
      "Enter element [1][2]:  2\n",
      "Enter element [2][1]:  2\n",
      "Enter element [2][2]:  2\n"
     ]
    },
    {
     "name": "stdout",
     "output_type": "stream",
     "text": [
      "Enter elements for the second matrix:\n"
     ]
    },
    {
     "name": "stdin",
     "output_type": "stream",
     "text": [
      "Enter element [1][1]:  2\n",
      "Enter element [1][2]:  2\n",
      "Enter element [2][1]:  10\n",
      "Enter element [2][2]:  12\n"
     ]
    },
    {
     "name": "stdout",
     "output_type": "stream",
     "text": [
      "\n",
      "Matrix Multiplication Result:\n",
      "24 28\n",
      "24 28\n"
     ]
    }
   ],
   "source": [
    "def matrix_multiplication(matrix1, matrix2):\n",
    "    rows1 = len(matrix1)\n",
    "    cols1 = len(matrix1[0])\n",
    "    rows2 = len(matrix2)\n",
    "    cols2 = len(matrix2[0])\n",
    "\n",
    "    if cols1 != rows2:\n",
    "        return None  # Matrix multiplication not possible\n",
    "\n",
    "    result = [[0 for _ in range(cols2)] for _ in range(rows1)]\n",
    "\n",
    "    for i in range(rows1):\n",
    "        for j in range(cols2):\n",
    "            for k in range(cols1):\n",
    "                result[i][j] += matrix1[i][k] * matrix2[k][j]\n",
    "\n",
    "    return result\n",
    "\n",
    "def print_matrix(matrix):\n",
    "    for row in matrix:\n",
    "        print(' '.join(str(elem) for elem in row))\n",
    "\n",
    "# Taking input for matrix dimensions\n",
    "rows1 = int(input(\"Enter the number of rows for the first matrix: \"))\n",
    "cols1 = int(input(\"Enter the number of columns for the first matrix: \"))\n",
    "\n",
    "rows2 = int(input(\"Enter the number of rows for the second matrix: \"))\n",
    "cols2 = int(input(\"Enter the number of columns for the second matrix: \"))\n",
    "\n",
    "# Taking input for the first matrix\n",
    "print(\"Enter elements for the first matrix:\")\n",
    "matrix1 = [[int(input(f\"Enter element [{i+1}][{j+1}]: \")) for j in range(cols1)] for i in range(rows1)]\n",
    "\n",
    "# Taking input for the second matrix\n",
    "print(\"Enter elements for the second matrix:\")\n",
    "matrix2 = [[int(input(f\"Enter element [{i+1}][{j+1}]: \")) for j in range(cols2)] for i in range(rows2)]\n",
    "\n",
    "# Performing matrix multiplication\n",
    "multiplication_result = matrix_multiplication(matrix1, matrix2)\n",
    "\n",
    "# Printing the results\n",
    "if multiplication_result is not None:\n",
    "    print(\"\\nMatrix Multiplication Result:\")\n",
    "    print_matrix(multiplication_result)\n",
    "else:\n",
    "    print(\"\\nMatrix multiplication is not possible. Please ensure the number of columns in the first matrix matches the number of rows in the second matrix.\")"
   ]
  },
  {
   "cell_type": "markdown",
   "id": "1696ed6a-af38-4573-a3f4-7cb04bbf4266",
   "metadata": {},
   "source": [
    "35. Create a program that simulates a basic text-based tic-tac-toe game against the computer."
   ]
  },
  {
   "cell_type": "code",
   "execution_count": 4,
   "id": "5aa276f4-c946-48d2-9923-4daa035c1dcc",
   "metadata": {},
   "outputs": [
    {
     "name": "stdin",
     "output_type": "stream",
     "text": [
      "Choose your symbol (X or O):  X\n"
     ]
    },
    {
     "name": "stdout",
     "output_type": "stream",
     "text": [
      "  |   |  \n",
      "-----\n",
      "  |   |  \n",
      "-----\n",
      "  |   |  \n",
      "-----\n"
     ]
    },
    {
     "name": "stdin",
     "output_type": "stream",
     "text": [
      "Enter row (0, 1, or 2):  0\n",
      "Enter column (0, 1, or 2):  1\n"
     ]
    },
    {
     "name": "stdout",
     "output_type": "stream",
     "text": [
      "  | X |  \n",
      "-----\n",
      "  |   |  \n",
      "-----\n",
      "  |   |  \n",
      "-----\n",
      "Computer's turn...\n",
      "  | X |  \n",
      "-----\n",
      "  | O |  \n",
      "-----\n",
      "  |   |  \n",
      "-----\n"
     ]
    },
    {
     "name": "stdin",
     "output_type": "stream",
     "text": [
      "Enter row (0, 1, or 2):  0\n",
      "Enter column (0, 1, or 2):  0\n"
     ]
    },
    {
     "name": "stdout",
     "output_type": "stream",
     "text": [
      "X | X |  \n",
      "-----\n",
      "  | O |  \n",
      "-----\n",
      "  |   |  \n",
      "-----\n",
      "Computer's turn...\n",
      "X | X |  \n",
      "-----\n",
      "  | O |  \n",
      "-----\n",
      "  | O |  \n",
      "-----\n"
     ]
    },
    {
     "name": "stdin",
     "output_type": "stream",
     "text": [
      "Enter row (0, 1, or 2):  0\n",
      "Enter column (0, 1, or 2):  2\n"
     ]
    },
    {
     "name": "stdout",
     "output_type": "stream",
     "text": [
      "X | X | X\n",
      "-----\n",
      "  | O |  \n",
      "-----\n",
      "  | O |  \n",
      "-----\n",
      "Congratulations! You win!\n"
     ]
    }
   ],
   "source": [
    "import random\n",
    "\n",
    "def print_board(board):\n",
    "    for row in board:\n",
    "        print(' | '.join(row))\n",
    "        print('-' * 5)\n",
    "\n",
    "def check_winner(board):\n",
    "    for row in board:\n",
    "        if row[0] == row[1] == row[2] and row[0] != ' ':\n",
    "            return True\n",
    "\n",
    "    for col in range(3):\n",
    "        if board[0][col] == board[1][col] == board[2][col] and board[0][col] != ' ':\n",
    "            return True\n",
    "\n",
    "    if board[0][0] == board[1][1] == board[2][2] and board[0][0] != ' ':\n",
    "        return True\n",
    "\n",
    "    if board[0][2] == board[1][1] == board[2][0] and board[0][2] != ' ':\n",
    "        return True\n",
    "\n",
    "    return False\n",
    "\n",
    "def computer_move(board):\n",
    "    empty_cells = [(i, j) for i in range(3) for j in range(3) if board[i][j] == ' ']\n",
    "    return random.choice(empty_cells)\n",
    "\n",
    "def tic_tac_toe():\n",
    "    board = [[' ' for _ in range(3)] for _ in range(3)]\n",
    "\n",
    "    player_symbol = input(\"Choose your symbol (X or O): \").upper()\n",
    "    if player_symbol not in ['X', 'O']:\n",
    "        print(\"Invalid symbol. Defaulting to 'X'.\")\n",
    "        player_symbol = 'X'\n",
    "\n",
    "    computer_symbol = 'O' if player_symbol == 'X' else 'X'\n",
    "\n",
    "    current_player = player_symbol\n",
    "    while True:\n",
    "        print_board(board)\n",
    "\n",
    "        if current_player == player_symbol:\n",
    "            row = int(input(\"Enter row (0, 1, or 2): \"))\n",
    "            col = int(input(\"Enter column (0, 1, or 2): \"))\n",
    "        else:\n",
    "            print(\"Computer's turn...\")\n",
    "            row, col = computer_move(board)\n",
    "\n",
    "        if board[row][col] == ' ':\n",
    "            board[row][col] = current_player\n",
    "\n",
    "            if check_winner(board):\n",
    "                print_board(board)\n",
    "                if current_player == player_symbol:\n",
    "                    print(\"Congratulations! You win!\")\n",
    "                else:\n",
    "                    print(\"Computer wins!\")\n",
    "                break\n",
    "\n",
    "            if all(row.count(' ') == 0 for row in board):\n",
    "                print_board(board)\n",
    "                print(\"It's a draw!\")\n",
    "                break\n",
    "\n",
    "            current_player = player_symbol if current_player == computer_symbol else computer_symbol\n",
    "        else:\n",
    "            print(\"Invalid move. Try again.\")\n",
    "\n",
    "if __name__ == \"__main__\":\n",
    "    tic_tac_toe()"
   ]
  },
  {
   "cell_type": "markdown",
   "id": "4d5e0f09-978f-49ef-9dd3-3ad403181439",
   "metadata": {},
   "source": [
    "36. Write a program that generates Fibonacci numbers up to a specified term using iterative methods."
   ]
  },
  {
   "cell_type": "code",
   "execution_count": 6,
   "id": "cf3df983-f0bf-41bc-828f-08561264b77b",
   "metadata": {},
   "outputs": [
    {
     "name": "stdin",
     "output_type": "stream",
     "text": [
      "Enter the number of Fibonacci terms to generate:  10\n"
     ]
    },
    {
     "name": "stdout",
     "output_type": "stream",
     "text": [
      "The first 10 Fibonacci numbers are:\n",
      "[0, 1, 1, 2, 3, 5, 8, 13, 21, 34]\n"
     ]
    }
   ],
   "source": [
    "def generate_fibonacci(n):\n",
    "    fib_sequence = [0, 1]\n",
    "    while len(fib_sequence) < n:\n",
    "        fib_sequence.append(fib_sequence[-1] + fib_sequence[-2])\n",
    "    return fib_sequence[:n]\n",
    "\n",
    "# Taking input from the user\n",
    "num_terms = int(input(\"Enter the number of Fibonacci terms to generate: \"))\n",
    "\n",
    "# Generating Fibonacci numbers\n",
    "fibonacci_sequence = generate_fibonacci(num_terms)\n",
    "\n",
    "# Printing the Fibonacci sequence\n",
    "print(f\"The first {num_terms} Fibonacci numbers are:\")\n",
    "print(fibonacci_sequence)"
   ]
  },
  {
   "cell_type": "markdown",
   "id": "ce6a4dcb-d035-48c4-95e2-a9250f3f4f93",
   "metadata": {},
   "source": [
    "37. Develop a program that calculates the nth term of the Fibonacci sequence using memoization."
   ]
  },
  {
   "cell_type": "code",
   "execution_count": 8,
   "id": "5761a7a8-6b80-4df7-95f8-d43fa11e39e7",
   "metadata": {},
   "outputs": [
    {
     "name": "stdin",
     "output_type": "stream",
     "text": [
      "Enter the value of n to find the nth Fibonacci term:  10\n"
     ]
    },
    {
     "name": "stdout",
     "output_type": "stream",
     "text": [
      "The 10th Fibonacci term is: 55\n"
     ]
    }
   ],
   "source": [
    "def fibonacci_with_memoization(n, memo={}):\n",
    "    if n <= 1:\n",
    "        return n\n",
    "    elif n in memo:\n",
    "        return memo[n]\n",
    "    else:\n",
    "        result = fibonacci_with_memoization(n-1, memo) + fibonacci_with_memoization(n-2, memo)\n",
    "        memo[n] = result\n",
    "        return result\n",
    "\n",
    "# Taking input from the user\n",
    "n = int(input(\"Enter the value of n to find the nth Fibonacci term: \"))\n",
    "\n",
    "# Calculating the nth Fibonacci term using memoization\n",
    "result = fibonacci_with_memoization(n)\n",
    "\n",
    "# Printing the result\n",
    "print(f\"The {n}th Fibonacci term is: {result}\")"
   ]
  },
  {
   "cell_type": "markdown",
   "id": "2c9745e6-fdc3-4a60-aa36-b973e46daf33",
   "metadata": {},
   "source": [
    "38. Create a program that generates a calendar for a given month and year using conditional statements."
   ]
  },
  {
   "cell_type": "code",
   "execution_count": 10,
   "id": "5ef0cfd7-2fa4-426c-bb69-127499b11d36",
   "metadata": {},
   "outputs": [
    {
     "name": "stdin",
     "output_type": "stream",
     "text": [
      "Enter the year:  2000\n",
      "Enter the month (1 for January, 2 for February, etc.):  2\n"
     ]
    },
    {
     "name": "stdout",
     "output_type": "stream",
     "text": [
      "Calendar for February 2000\n",
      "   February 2000\n",
      "Mo Tu We Th Fr Sa Su\n",
      "    1  2  3  4  5  6\n",
      " 7  8  9 10 11 12 13\n",
      "14 15 16 17 18 19 20\n",
      "21 22 23 24 25 26 27\n",
      "28 29\n",
      "\n"
     ]
    }
   ],
   "source": [
    "import calendar\n",
    "\n",
    "def generate_calendar(year, month):\n",
    "    # Get the month's calendar as a string\n",
    "    cal = calendar.month(year, month)\n",
    "\n",
    "    # Print the calendar\n",
    "    print(f\"Calendar for {calendar.month_name[month]} {year}\")\n",
    "    print(cal)\n",
    "\n",
    "# Taking input from the user\n",
    "year = int(input(\"Enter the year: \"))\n",
    "month = int(input(\"Enter the month (1 for January, 2 for February, etc.): \"))\n",
    "\n",
    "# Validating input\n",
    "if 1 <= month <= 12:\n",
    "    generate_calendar(year, month)\n",
    "else:\n",
    "    print(\"Invalid month. Please enter a number between 1 and 12.\")"
   ]
  },
  {
   "cell_type": "markdown",
   "id": "2b82d545-f4e0-4494-b2a2-f0201b5136e8",
   "metadata": {},
   "source": [
    "39. Build a program that simulates a basic text-based blackjack game against the computer."
   ]
  },
  {
   "cell_type": "code",
   "execution_count": 11,
   "id": "19b96161-9f94-4a92-bbdc-6485d75e1e61",
   "metadata": {},
   "outputs": [
    {
     "name": "stdout",
     "output_type": "stream",
     "text": [
      "Welcome to Blackjack!\n",
      "Hand: 5 A\n"
     ]
    },
    {
     "name": "stdin",
     "output_type": "stream",
     "text": [
      "Do you want to (H)it or (S)tand?  H\n"
     ]
    },
    {
     "name": "stdout",
     "output_type": "stream",
     "text": [
      "Hand: 5 A 2\n"
     ]
    },
    {
     "name": "stdin",
     "output_type": "stream",
     "text": [
      "Do you want to (H)it or (S)tand?  S\n"
     ]
    },
    {
     "name": "stdout",
     "output_type": "stream",
     "text": [
      "\n",
      "Final hands:\n",
      "Hand: 5 A 2\n",
      "Hand: 4 8 2 Q\n",
      "Dealer busts! You win!\n"
     ]
    }
   ],
   "source": [
    "import random\n",
    "\n",
    "def deal_card():\n",
    "    \"\"\"Returns a random card from a standard deck.\"\"\"\n",
    "    cards = [2, 3, 4, 5, 6, 7, 8, 9, 10, 'J', 'Q', 'K', 'A']\n",
    "    return random.choice(cards)\n",
    "\n",
    "def calculate_hand_value(hand):\n",
    "    \"\"\"Calculates the value of a hand.\"\"\"\n",
    "    value = 0\n",
    "    num_aces = 0\n",
    "\n",
    "    for card in hand:\n",
    "        if card in ['J', 'Q', 'K']:\n",
    "            value += 10\n",
    "        elif card == 'A':\n",
    "            num_aces += 1\n",
    "            value += 11\n",
    "        else:\n",
    "            value += card\n",
    "\n",
    "    while num_aces > 0 and value > 21:\n",
    "        value -= 10\n",
    "        num_aces -= 1\n",
    "\n",
    "    return value\n",
    "\n",
    "def print_hand(hand, hide_first_card=False):\n",
    "    \"\"\"Prints the player's or dealer's hand.\"\"\"\n",
    "    if hide_first_card:\n",
    "        print(f\"Hand: {' '.join(['X'] + hand[1:])}\")\n",
    "    else:\n",
    "        print(f\"Hand: {' '.join(map(str, hand))}\")\n",
    "\n",
    "def blackjack_game():\n",
    "    player_hand = [deal_card(), deal_card()]\n",
    "    dealer_hand = [deal_card(), deal_card()]\n",
    "\n",
    "    print(\"Welcome to Blackjack!\")\n",
    "\n",
    "    # Player's turn\n",
    "    while True:\n",
    "        print_hand(player_hand)\n",
    "        player_value = calculate_hand_value(player_hand)\n",
    "\n",
    "        if player_value == 21:\n",
    "            print(\"You have Blackjack! You win!\")\n",
    "            return\n",
    "\n",
    "        if player_value > 21:\n",
    "            print(\"You busted! Dealer wins.\")\n",
    "            return\n",
    "\n",
    "        action = input(\"Do you want to (H)it or (S)tand? \").upper()\n",
    "        if action == 'H':\n",
    "            player_hand.append(deal_card())\n",
    "        elif action == 'S':\n",
    "            break\n",
    "        else:\n",
    "            print(\"Invalid input. Please enter 'H' or 'S'.\")\n",
    "\n",
    "    # Dealer's turn\n",
    "    while calculate_hand_value(dealer_hand) < 17:\n",
    "        dealer_hand.append(deal_card())\n",
    "\n",
    "    # Print hands\n",
    "    print(\"\\nFinal hands:\")\n",
    "    print_hand(player_hand)\n",
    "    print_hand(dealer_hand)\n",
    "\n",
    "    # Determine winner\n",
    "    player_value = calculate_hand_value(player_hand)\n",
    "    dealer_value = calculate_hand_value(dealer_hand)\n",
    "\n",
    "    if dealer_value > 21:\n",
    "        print(\"Dealer busts! You win!\")\n",
    "    elif player_value > dealer_value:\n",
    "        print(\"You win!\")\n",
    "    elif player_value < dealer_value:\n",
    "        print(\"Dealer wins.\")\n",
    "    else:\n",
    "        print(\"It's a tie!\")\n",
    "\n",
    "if __name__ == \"__main__\":\n",
    "    blackjack_game()"
   ]
  },
  {
   "cell_type": "markdown",
   "id": "16518034-39bc-4ae4-8801-fb0209a7d7e2",
   "metadata": {},
   "source": [
    "40. Write a program that generates the prime factors of a given number using trial division."
   ]
  },
  {
   "cell_type": "code",
   "execution_count": 12,
   "id": "26686552-ead9-4230-8120-43bbcb82deff",
   "metadata": {},
   "outputs": [
    {
     "name": "stdin",
     "output_type": "stream",
     "text": [
      "Enter a number to find its prime factors:  10\n"
     ]
    },
    {
     "name": "stdout",
     "output_type": "stream",
     "text": [
      "The prime factors of 10 are: [2, 5]\n"
     ]
    }
   ],
   "source": [
    "def generate_prime_factors(n):\n",
    "    factors = []\n",
    "\n",
    "    # Divide by 2 while n is even\n",
    "    while n % 2 == 0:\n",
    "        factors.append(2)\n",
    "        n = n // 2\n",
    "\n",
    "    # Check for other prime factors\n",
    "    for i in range(3, int(n**0.5) + 1, 2):\n",
    "        while n % i == 0:\n",
    "            factors.append(i)\n",
    "            n = n // i\n",
    "\n",
    "    if n > 2:\n",
    "        factors.append(n)\n",
    "\n",
    "    return factors\n",
    "\n",
    "# Taking input from the user\n",
    "number = int(input(\"Enter a number to find its prime factors: \"))\n",
    "\n",
    "# Generating prime factors\n",
    "prime_factors = generate_prime_factors(number)\n",
    "\n",
    "# Printing the prime factors\n",
    "print(f\"The prime factors of {number} are: {prime_factors}\")"
   ]
  }
 ],
 "metadata": {
  "kernelspec": {
   "display_name": "Python 3 (ipykernel)",
   "language": "python",
   "name": "python3"
  },
  "language_info": {
   "codemirror_mode": {
    "name": "ipython",
    "version": 3
   },
   "file_extension": ".py",
   "mimetype": "text/x-python",
   "name": "python",
   "nbconvert_exporter": "python",
   "pygments_lexer": "ipython3",
   "version": "3.10.8"
  }
 },
 "nbformat": 4,
 "nbformat_minor": 5
}
